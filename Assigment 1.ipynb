{
 "cells": [
  {
   "cell_type": "markdown",
   "id": "7c2195d2",
   "metadata": {},
   "source": [
    "# Importing Library"
   ]
  },
  {
   "cell_type": "code",
   "execution_count": 159,
   "id": "a6b6c351",
   "metadata": {},
   "outputs": [],
   "source": [
    "import os \n",
    "import pandas as pd\n",
    "import numpy as np\n",
    "import matplotlib.pyplot as plt\n",
    "import seaborn as sns\n",
    "import warnings\n",
    "warnings.filterwarnings('ignore')\n",
    "\n",
    "\n",
    "from statsmodels.stats.weightstats import ztest\n",
    "from sklearn.preprocessing import StandardScaler\n",
    "from sklearn.model_selection import train_test_split\n",
    "\n",
    "from sklearn.tree import DecisionTreeRegressor\n",
    "from sklearn.ensemble import RandomForestRegressor\n",
    "from sklearn.neighbors import KNeighborsRegressor\n",
    "from sklearn.svm import SVR\n",
    "from sklearn.linear_model import LinearRegression\n",
    "from sklearn.metrics import mean_absolute_percentage_error,mean_squared_error,r2_score"
   ]
  },
  {
   "cell_type": "markdown",
   "id": "9566c4d6",
   "metadata": {},
   "source": [
    "# Importing data"
   ]
  },
  {
   "cell_type": "code",
   "execution_count": 51,
   "id": "b04758fe",
   "metadata": {},
   "outputs": [],
   "source": [
    "data=pd.read_excel(\"DS - Assignment Part 1 data set.xlsx\")"
   ]
  },
  {
   "cell_type": "markdown",
   "id": "ae845cdd",
   "metadata": {},
   "source": [
    "# Exploring Data"
   ]
  },
  {
   "cell_type": "code",
   "execution_count": 52,
   "id": "62177736",
   "metadata": {},
   "outputs": [
    {
     "data": {
      "text/html": [
       "<div>\n",
       "<style scoped>\n",
       "    .dataframe tbody tr th:only-of-type {\n",
       "        vertical-align: middle;\n",
       "    }\n",
       "\n",
       "    .dataframe tbody tr th {\n",
       "        vertical-align: top;\n",
       "    }\n",
       "\n",
       "    .dataframe thead th {\n",
       "        text-align: right;\n",
       "    }\n",
       "</style>\n",
       "<table border=\"1\" class=\"dataframe\">\n",
       "  <thead>\n",
       "    <tr style=\"text-align: right;\">\n",
       "      <th></th>\n",
       "      <th>Transaction date</th>\n",
       "      <th>House Age</th>\n",
       "      <th>Distance from nearest Metro station (km)</th>\n",
       "      <th>Number of convenience stores</th>\n",
       "      <th>latitude</th>\n",
       "      <th>longitude</th>\n",
       "      <th>Number of bedrooms</th>\n",
       "      <th>House size (sqft)</th>\n",
       "      <th>House price of unit area</th>\n",
       "    </tr>\n",
       "  </thead>\n",
       "  <tbody>\n",
       "    <tr>\n",
       "      <th>0</th>\n",
       "      <td>2012.916667</td>\n",
       "      <td>32.0</td>\n",
       "      <td>84.87882</td>\n",
       "      <td>10</td>\n",
       "      <td>24.98298</td>\n",
       "      <td>121.54024</td>\n",
       "      <td>1</td>\n",
       "      <td>575</td>\n",
       "      <td>37.9</td>\n",
       "    </tr>\n",
       "    <tr>\n",
       "      <th>1</th>\n",
       "      <td>2012.916667</td>\n",
       "      <td>19.5</td>\n",
       "      <td>306.59470</td>\n",
       "      <td>9</td>\n",
       "      <td>24.98034</td>\n",
       "      <td>121.53951</td>\n",
       "      <td>2</td>\n",
       "      <td>1240</td>\n",
       "      <td>42.2</td>\n",
       "    </tr>\n",
       "    <tr>\n",
       "      <th>2</th>\n",
       "      <td>2013.583333</td>\n",
       "      <td>13.3</td>\n",
       "      <td>561.98450</td>\n",
       "      <td>5</td>\n",
       "      <td>24.98746</td>\n",
       "      <td>121.54391</td>\n",
       "      <td>3</td>\n",
       "      <td>1060</td>\n",
       "      <td>47.3</td>\n",
       "    </tr>\n",
       "    <tr>\n",
       "      <th>3</th>\n",
       "      <td>2013.500000</td>\n",
       "      <td>13.3</td>\n",
       "      <td>561.98450</td>\n",
       "      <td>5</td>\n",
       "      <td>24.98746</td>\n",
       "      <td>121.54391</td>\n",
       "      <td>2</td>\n",
       "      <td>875</td>\n",
       "      <td>54.8</td>\n",
       "    </tr>\n",
       "    <tr>\n",
       "      <th>4</th>\n",
       "      <td>2012.833333</td>\n",
       "      <td>5.0</td>\n",
       "      <td>390.56840</td>\n",
       "      <td>5</td>\n",
       "      <td>24.97937</td>\n",
       "      <td>121.54245</td>\n",
       "      <td>1</td>\n",
       "      <td>491</td>\n",
       "      <td>43.1</td>\n",
       "    </tr>\n",
       "  </tbody>\n",
       "</table>\n",
       "</div>"
      ],
      "text/plain": [
       "   Transaction date  House Age  Distance from nearest Metro station (km)  \\\n",
       "0       2012.916667       32.0                                  84.87882   \n",
       "1       2012.916667       19.5                                 306.59470   \n",
       "2       2013.583333       13.3                                 561.98450   \n",
       "3       2013.500000       13.3                                 561.98450   \n",
       "4       2012.833333        5.0                                 390.56840   \n",
       "\n",
       "   Number of convenience stores  latitude  longitude  Number of bedrooms  \\\n",
       "0                            10  24.98298  121.54024                   1   \n",
       "1                             9  24.98034  121.53951                   2   \n",
       "2                             5  24.98746  121.54391                   3   \n",
       "3                             5  24.98746  121.54391                   2   \n",
       "4                             5  24.97937  121.54245                   1   \n",
       "\n",
       "   House size (sqft)  House price of unit area  \n",
       "0                575                      37.9  \n",
       "1               1240                      42.2  \n",
       "2               1060                      47.3  \n",
       "3                875                      54.8  \n",
       "4                491                      43.1  "
      ]
     },
     "execution_count": 52,
     "metadata": {},
     "output_type": "execute_result"
    }
   ],
   "source": [
    "data.head()"
   ]
  },
  {
   "cell_type": "code",
   "execution_count": 53,
   "id": "cf1cae28",
   "metadata": {},
   "outputs": [
    {
     "name": "stdout",
     "output_type": "stream",
     "text": [
      "No of records :-  414\n",
      "No of columns :-  9\n"
     ]
    }
   ],
   "source": [
    "print(\"No of records :- \",data.shape[0])\n",
    "print(\"No of columns :- \",data.shape[1])"
   ]
  },
  {
   "cell_type": "code",
   "execution_count": 54,
   "id": "d7b16938",
   "metadata": {},
   "outputs": [
    {
     "data": {
      "text/plain": [
       "Index(['Transaction date', 'House Age',\n",
       "       'Distance from nearest Metro station (km)',\n",
       "       'Number of convenience stores', 'latitude', 'longitude',\n",
       "       'Number of bedrooms', 'House size (sqft)', 'House price of unit area'],\n",
       "      dtype='object')"
      ]
     },
     "execution_count": 54,
     "metadata": {},
     "output_type": "execute_result"
    }
   ],
   "source": [
    "data.columns"
   ]
  },
  {
   "cell_type": "code",
   "execution_count": 55,
   "id": "6532d211",
   "metadata": {},
   "outputs": [
    {
     "data": {
      "text/html": [
       "<div>\n",
       "<style scoped>\n",
       "    .dataframe tbody tr th:only-of-type {\n",
       "        vertical-align: middle;\n",
       "    }\n",
       "\n",
       "    .dataframe tbody tr th {\n",
       "        vertical-align: top;\n",
       "    }\n",
       "\n",
       "    .dataframe thead th {\n",
       "        text-align: right;\n",
       "    }\n",
       "</style>\n",
       "<table border=\"1\" class=\"dataframe\">\n",
       "  <thead>\n",
       "    <tr style=\"text-align: right;\">\n",
       "      <th></th>\n",
       "      <th>Transaction date</th>\n",
       "      <th>House Age</th>\n",
       "      <th>Distance from nearest Metro station (km)</th>\n",
       "      <th>Number of convenience stores</th>\n",
       "      <th>latitude</th>\n",
       "      <th>longitude</th>\n",
       "      <th>Number of bedrooms</th>\n",
       "      <th>House size (sqft)</th>\n",
       "      <th>House price of unit area</th>\n",
       "    </tr>\n",
       "  </thead>\n",
       "  <tbody>\n",
       "    <tr>\n",
       "      <th>409</th>\n",
       "      <td>2013.000000</td>\n",
       "      <td>13.7</td>\n",
       "      <td>4082.01500</td>\n",
       "      <td>0</td>\n",
       "      <td>24.94155</td>\n",
       "      <td>121.50381</td>\n",
       "      <td>3</td>\n",
       "      <td>803</td>\n",
       "      <td>15.4</td>\n",
       "    </tr>\n",
       "    <tr>\n",
       "      <th>410</th>\n",
       "      <td>2012.666667</td>\n",
       "      <td>5.6</td>\n",
       "      <td>90.45606</td>\n",
       "      <td>9</td>\n",
       "      <td>24.97433</td>\n",
       "      <td>121.54310</td>\n",
       "      <td>2</td>\n",
       "      <td>1278</td>\n",
       "      <td>50.0</td>\n",
       "    </tr>\n",
       "    <tr>\n",
       "      <th>411</th>\n",
       "      <td>2013.250000</td>\n",
       "      <td>18.8</td>\n",
       "      <td>390.96960</td>\n",
       "      <td>7</td>\n",
       "      <td>24.97923</td>\n",
       "      <td>121.53986</td>\n",
       "      <td>1</td>\n",
       "      <td>503</td>\n",
       "      <td>40.6</td>\n",
       "    </tr>\n",
       "    <tr>\n",
       "      <th>412</th>\n",
       "      <td>2013.000000</td>\n",
       "      <td>8.1</td>\n",
       "      <td>104.81010</td>\n",
       "      <td>5</td>\n",
       "      <td>24.96674</td>\n",
       "      <td>121.54067</td>\n",
       "      <td>1</td>\n",
       "      <td>597</td>\n",
       "      <td>52.5</td>\n",
       "    </tr>\n",
       "    <tr>\n",
       "      <th>413</th>\n",
       "      <td>2013.500000</td>\n",
       "      <td>6.5</td>\n",
       "      <td>90.45606</td>\n",
       "      <td>9</td>\n",
       "      <td>24.97433</td>\n",
       "      <td>121.54310</td>\n",
       "      <td>2</td>\n",
       "      <td>1097</td>\n",
       "      <td>63.9</td>\n",
       "    </tr>\n",
       "  </tbody>\n",
       "</table>\n",
       "</div>"
      ],
      "text/plain": [
       "     Transaction date  House Age  Distance from nearest Metro station (km)  \\\n",
       "409       2013.000000       13.7                                4082.01500   \n",
       "410       2012.666667        5.6                                  90.45606   \n",
       "411       2013.250000       18.8                                 390.96960   \n",
       "412       2013.000000        8.1                                 104.81010   \n",
       "413       2013.500000        6.5                                  90.45606   \n",
       "\n",
       "     Number of convenience stores  latitude  longitude  Number of bedrooms  \\\n",
       "409                             0  24.94155  121.50381                   3   \n",
       "410                             9  24.97433  121.54310                   2   \n",
       "411                             7  24.97923  121.53986                   1   \n",
       "412                             5  24.96674  121.54067                   1   \n",
       "413                             9  24.97433  121.54310                   2   \n",
       "\n",
       "     House size (sqft)  House price of unit area  \n",
       "409                803                      15.4  \n",
       "410               1278                      50.0  \n",
       "411                503                      40.6  \n",
       "412                597                      52.5  \n",
       "413               1097                      63.9  "
      ]
     },
     "execution_count": 55,
     "metadata": {},
     "output_type": "execute_result"
    }
   ],
   "source": [
    "data.tail()"
   ]
  },
  {
   "cell_type": "code",
   "execution_count": 56,
   "id": "fa79ddb8",
   "metadata": {},
   "outputs": [
    {
     "name": "stdout",
     "output_type": "stream",
     "text": [
      "<class 'pandas.core.frame.DataFrame'>\n",
      "RangeIndex: 414 entries, 0 to 413\n",
      "Data columns (total 9 columns):\n",
      " #   Column                                    Non-Null Count  Dtype  \n",
      "---  ------                                    --------------  -----  \n",
      " 0   Transaction date                          414 non-null    float64\n",
      " 1   House Age                                 414 non-null    float64\n",
      " 2   Distance from nearest Metro station (km)  414 non-null    float64\n",
      " 3   Number of convenience stores              414 non-null    int64  \n",
      " 4   latitude                                  414 non-null    float64\n",
      " 5   longitude                                 414 non-null    float64\n",
      " 6   Number of bedrooms                        414 non-null    int64  \n",
      " 7   House size (sqft)                         414 non-null    int64  \n",
      " 8   House price of unit area                  414 non-null    float64\n",
      "dtypes: float64(6), int64(3)\n",
      "memory usage: 29.2 KB\n"
     ]
    }
   ],
   "source": [
    "data.info()"
   ]
  },
  {
   "cell_type": "code",
   "execution_count": 57,
   "id": "34007bba",
   "metadata": {},
   "outputs": [],
   "source": [
    "# In our dataset we have 9 columns and no null value\n",
    "# All of our features are continous with float and integer data type."
   ]
  },
  {
   "cell_type": "code",
   "execution_count": 58,
   "id": "c44d10b6",
   "metadata": {},
   "outputs": [
    {
     "data": {
      "text/html": [
       "<div>\n",
       "<style scoped>\n",
       "    .dataframe tbody tr th:only-of-type {\n",
       "        vertical-align: middle;\n",
       "    }\n",
       "\n",
       "    .dataframe tbody tr th {\n",
       "        vertical-align: top;\n",
       "    }\n",
       "\n",
       "    .dataframe thead th {\n",
       "        text-align: right;\n",
       "    }\n",
       "</style>\n",
       "<table border=\"1\" class=\"dataframe\">\n",
       "  <thead>\n",
       "    <tr style=\"text-align: right;\">\n",
       "      <th></th>\n",
       "      <th>Transaction date</th>\n",
       "      <th>House Age</th>\n",
       "      <th>Distance from nearest Metro station (km)</th>\n",
       "      <th>Number of convenience stores</th>\n",
       "      <th>latitude</th>\n",
       "      <th>longitude</th>\n",
       "      <th>Number of bedrooms</th>\n",
       "      <th>House size (sqft)</th>\n",
       "      <th>House price of unit area</th>\n",
       "    </tr>\n",
       "  </thead>\n",
       "  <tbody>\n",
       "    <tr>\n",
       "      <th>count</th>\n",
       "      <td>414.000000</td>\n",
       "      <td>414.000000</td>\n",
       "      <td>414.000000</td>\n",
       "      <td>414.000000</td>\n",
       "      <td>414.000000</td>\n",
       "      <td>414.000000</td>\n",
       "      <td>414.000000</td>\n",
       "      <td>414.000000</td>\n",
       "      <td>414.000000</td>\n",
       "    </tr>\n",
       "    <tr>\n",
       "      <th>mean</th>\n",
       "      <td>2013.148953</td>\n",
       "      <td>17.712560</td>\n",
       "      <td>1083.885689</td>\n",
       "      <td>4.094203</td>\n",
       "      <td>24.969030</td>\n",
       "      <td>121.533361</td>\n",
       "      <td>1.987923</td>\n",
       "      <td>931.475845</td>\n",
       "      <td>37.980193</td>\n",
       "    </tr>\n",
       "    <tr>\n",
       "      <th>std</th>\n",
       "      <td>0.281995</td>\n",
       "      <td>11.392485</td>\n",
       "      <td>1262.109595</td>\n",
       "      <td>2.945562</td>\n",
       "      <td>0.012410</td>\n",
       "      <td>0.015347</td>\n",
       "      <td>0.818875</td>\n",
       "      <td>348.910269</td>\n",
       "      <td>13.606488</td>\n",
       "    </tr>\n",
       "    <tr>\n",
       "      <th>min</th>\n",
       "      <td>2012.666667</td>\n",
       "      <td>0.000000</td>\n",
       "      <td>23.382840</td>\n",
       "      <td>0.000000</td>\n",
       "      <td>24.932070</td>\n",
       "      <td>121.473530</td>\n",
       "      <td>1.000000</td>\n",
       "      <td>402.000000</td>\n",
       "      <td>7.600000</td>\n",
       "    </tr>\n",
       "    <tr>\n",
       "      <th>25%</th>\n",
       "      <td>2012.916667</td>\n",
       "      <td>9.025000</td>\n",
       "      <td>289.324800</td>\n",
       "      <td>1.000000</td>\n",
       "      <td>24.963000</td>\n",
       "      <td>121.528085</td>\n",
       "      <td>1.000000</td>\n",
       "      <td>548.000000</td>\n",
       "      <td>27.700000</td>\n",
       "    </tr>\n",
       "    <tr>\n",
       "      <th>50%</th>\n",
       "      <td>2013.166667</td>\n",
       "      <td>16.100000</td>\n",
       "      <td>492.231300</td>\n",
       "      <td>4.000000</td>\n",
       "      <td>24.971100</td>\n",
       "      <td>121.538630</td>\n",
       "      <td>2.000000</td>\n",
       "      <td>975.000000</td>\n",
       "      <td>38.450000</td>\n",
       "    </tr>\n",
       "    <tr>\n",
       "      <th>75%</th>\n",
       "      <td>2013.416667</td>\n",
       "      <td>28.150000</td>\n",
       "      <td>1454.279000</td>\n",
       "      <td>6.000000</td>\n",
       "      <td>24.977455</td>\n",
       "      <td>121.543305</td>\n",
       "      <td>3.000000</td>\n",
       "      <td>1234.750000</td>\n",
       "      <td>46.600000</td>\n",
       "    </tr>\n",
       "    <tr>\n",
       "      <th>max</th>\n",
       "      <td>2013.583333</td>\n",
       "      <td>43.800000</td>\n",
       "      <td>6488.021000</td>\n",
       "      <td>10.000000</td>\n",
       "      <td>25.014590</td>\n",
       "      <td>121.566270</td>\n",
       "      <td>3.000000</td>\n",
       "      <td>1500.000000</td>\n",
       "      <td>117.500000</td>\n",
       "    </tr>\n",
       "  </tbody>\n",
       "</table>\n",
       "</div>"
      ],
      "text/plain": [
       "       Transaction date   House Age  Distance from nearest Metro station (km)  \\\n",
       "count        414.000000  414.000000                                414.000000   \n",
       "mean        2013.148953   17.712560                               1083.885689   \n",
       "std            0.281995   11.392485                               1262.109595   \n",
       "min         2012.666667    0.000000                                 23.382840   \n",
       "25%         2012.916667    9.025000                                289.324800   \n",
       "50%         2013.166667   16.100000                                492.231300   \n",
       "75%         2013.416667   28.150000                               1454.279000   \n",
       "max         2013.583333   43.800000                               6488.021000   \n",
       "\n",
       "       Number of convenience stores    latitude   longitude  \\\n",
       "count                    414.000000  414.000000  414.000000   \n",
       "mean                       4.094203   24.969030  121.533361   \n",
       "std                        2.945562    0.012410    0.015347   \n",
       "min                        0.000000   24.932070  121.473530   \n",
       "25%                        1.000000   24.963000  121.528085   \n",
       "50%                        4.000000   24.971100  121.538630   \n",
       "75%                        6.000000   24.977455  121.543305   \n",
       "max                       10.000000   25.014590  121.566270   \n",
       "\n",
       "       Number of bedrooms  House size (sqft)  House price of unit area  \n",
       "count          414.000000         414.000000                414.000000  \n",
       "mean             1.987923         931.475845                 37.980193  \n",
       "std              0.818875         348.910269                 13.606488  \n",
       "min              1.000000         402.000000                  7.600000  \n",
       "25%              1.000000         548.000000                 27.700000  \n",
       "50%              2.000000         975.000000                 38.450000  \n",
       "75%              3.000000        1234.750000                 46.600000  \n",
       "max              3.000000        1500.000000                117.500000  "
      ]
     },
     "execution_count": 58,
     "metadata": {},
     "output_type": "execute_result"
    }
   ],
   "source": [
    "data.describe()"
   ]
  },
  {
   "cell_type": "code",
   "execution_count": 59,
   "id": "6f5217b6",
   "metadata": {},
   "outputs": [],
   "source": [
    "# After looking at the statistical summary, we have a idea that \"Distance from nearest Metro station (km)\"\n",
    "# might have outliers which we have to take care of"
   ]
  },
  {
   "cell_type": "code",
   "execution_count": 60,
   "id": "f719d9f2",
   "metadata": {},
   "outputs": [
    {
     "data": {
      "text/html": [
       "<div>\n",
       "<style scoped>\n",
       "    .dataframe tbody tr th:only-of-type {\n",
       "        vertical-align: middle;\n",
       "    }\n",
       "\n",
       "    .dataframe tbody tr th {\n",
       "        vertical-align: top;\n",
       "    }\n",
       "\n",
       "    .dataframe thead th {\n",
       "        text-align: right;\n",
       "    }\n",
       "</style>\n",
       "<table border=\"1\" class=\"dataframe\">\n",
       "  <thead>\n",
       "    <tr style=\"text-align: right;\">\n",
       "      <th></th>\n",
       "      <th>Transaction date</th>\n",
       "      <th>House Age</th>\n",
       "      <th>Distance from nearest Metro station (km)</th>\n",
       "      <th>Number of convenience stores</th>\n",
       "      <th>latitude</th>\n",
       "      <th>longitude</th>\n",
       "      <th>Number of bedrooms</th>\n",
       "      <th>House size (sqft)</th>\n",
       "      <th>House price of unit area</th>\n",
       "    </tr>\n",
       "  </thead>\n",
       "  <tbody>\n",
       "    <tr>\n",
       "      <th>Transaction date</th>\n",
       "      <td>1.000000</td>\n",
       "      <td>0.017542</td>\n",
       "      <td>0.060880</td>\n",
       "      <td>0.009544</td>\n",
       "      <td>0.035016</td>\n",
       "      <td>-0.041065</td>\n",
       "      <td>0.061985</td>\n",
       "      <td>0.068405</td>\n",
       "      <td>0.087529</td>\n",
       "    </tr>\n",
       "    <tr>\n",
       "      <th>House Age</th>\n",
       "      <td>0.017542</td>\n",
       "      <td>1.000000</td>\n",
       "      <td>0.025622</td>\n",
       "      <td>0.049593</td>\n",
       "      <td>0.054420</td>\n",
       "      <td>-0.048520</td>\n",
       "      <td>-0.008756</td>\n",
       "      <td>-0.060361</td>\n",
       "      <td>-0.210567</td>\n",
       "    </tr>\n",
       "    <tr>\n",
       "      <th>Distance from nearest Metro station (km)</th>\n",
       "      <td>0.060880</td>\n",
       "      <td>0.025622</td>\n",
       "      <td>1.000000</td>\n",
       "      <td>-0.602519</td>\n",
       "      <td>-0.591067</td>\n",
       "      <td>-0.806317</td>\n",
       "      <td>-0.046856</td>\n",
       "      <td>0.001795</td>\n",
       "      <td>-0.673613</td>\n",
       "    </tr>\n",
       "    <tr>\n",
       "      <th>Number of convenience stores</th>\n",
       "      <td>0.009544</td>\n",
       "      <td>0.049593</td>\n",
       "      <td>-0.602519</td>\n",
       "      <td>1.000000</td>\n",
       "      <td>0.444143</td>\n",
       "      <td>0.449099</td>\n",
       "      <td>0.043638</td>\n",
       "      <td>0.033286</td>\n",
       "      <td>0.571005</td>\n",
       "    </tr>\n",
       "    <tr>\n",
       "      <th>latitude</th>\n",
       "      <td>0.035016</td>\n",
       "      <td>0.054420</td>\n",
       "      <td>-0.591067</td>\n",
       "      <td>0.444143</td>\n",
       "      <td>1.000000</td>\n",
       "      <td>0.412924</td>\n",
       "      <td>0.043921</td>\n",
       "      <td>0.031696</td>\n",
       "      <td>0.546307</td>\n",
       "    </tr>\n",
       "    <tr>\n",
       "      <th>longitude</th>\n",
       "      <td>-0.041065</td>\n",
       "      <td>-0.048520</td>\n",
       "      <td>-0.806317</td>\n",
       "      <td>0.449099</td>\n",
       "      <td>0.412924</td>\n",
       "      <td>1.000000</td>\n",
       "      <td>0.041680</td>\n",
       "      <td>0.009322</td>\n",
       "      <td>0.523287</td>\n",
       "    </tr>\n",
       "    <tr>\n",
       "      <th>Number of bedrooms</th>\n",
       "      <td>0.061985</td>\n",
       "      <td>-0.008756</td>\n",
       "      <td>-0.046856</td>\n",
       "      <td>0.043638</td>\n",
       "      <td>0.043921</td>\n",
       "      <td>0.041680</td>\n",
       "      <td>1.000000</td>\n",
       "      <td>0.752276</td>\n",
       "      <td>0.050265</td>\n",
       "    </tr>\n",
       "    <tr>\n",
       "      <th>House size (sqft)</th>\n",
       "      <td>0.068405</td>\n",
       "      <td>-0.060361</td>\n",
       "      <td>0.001795</td>\n",
       "      <td>0.033286</td>\n",
       "      <td>0.031696</td>\n",
       "      <td>0.009322</td>\n",
       "      <td>0.752276</td>\n",
       "      <td>1.000000</td>\n",
       "      <td>0.046489</td>\n",
       "    </tr>\n",
       "    <tr>\n",
       "      <th>House price of unit area</th>\n",
       "      <td>0.087529</td>\n",
       "      <td>-0.210567</td>\n",
       "      <td>-0.673613</td>\n",
       "      <td>0.571005</td>\n",
       "      <td>0.546307</td>\n",
       "      <td>0.523287</td>\n",
       "      <td>0.050265</td>\n",
       "      <td>0.046489</td>\n",
       "      <td>1.000000</td>\n",
       "    </tr>\n",
       "  </tbody>\n",
       "</table>\n",
       "</div>"
      ],
      "text/plain": [
       "                                          Transaction date  House Age  \\\n",
       "Transaction date                                  1.000000   0.017542   \n",
       "House Age                                         0.017542   1.000000   \n",
       "Distance from nearest Metro station (km)          0.060880   0.025622   \n",
       "Number of convenience stores                      0.009544   0.049593   \n",
       "latitude                                          0.035016   0.054420   \n",
       "longitude                                        -0.041065  -0.048520   \n",
       "Number of bedrooms                                0.061985  -0.008756   \n",
       "House size (sqft)                                 0.068405  -0.060361   \n",
       "House price of unit area                          0.087529  -0.210567   \n",
       "\n",
       "                                          Distance from nearest Metro station (km)  \\\n",
       "Transaction date                                                          0.060880   \n",
       "House Age                                                                 0.025622   \n",
       "Distance from nearest Metro station (km)                                  1.000000   \n",
       "Number of convenience stores                                             -0.602519   \n",
       "latitude                                                                 -0.591067   \n",
       "longitude                                                                -0.806317   \n",
       "Number of bedrooms                                                       -0.046856   \n",
       "House size (sqft)                                                         0.001795   \n",
       "House price of unit area                                                 -0.673613   \n",
       "\n",
       "                                          Number of convenience stores  \\\n",
       "Transaction date                                              0.009544   \n",
       "House Age                                                     0.049593   \n",
       "Distance from nearest Metro station (km)                     -0.602519   \n",
       "Number of convenience stores                                  1.000000   \n",
       "latitude                                                      0.444143   \n",
       "longitude                                                     0.449099   \n",
       "Number of bedrooms                                            0.043638   \n",
       "House size (sqft)                                             0.033286   \n",
       "House price of unit area                                      0.571005   \n",
       "\n",
       "                                          latitude  longitude  \\\n",
       "Transaction date                          0.035016  -0.041065   \n",
       "House Age                                 0.054420  -0.048520   \n",
       "Distance from nearest Metro station (km) -0.591067  -0.806317   \n",
       "Number of convenience stores              0.444143   0.449099   \n",
       "latitude                                  1.000000   0.412924   \n",
       "longitude                                 0.412924   1.000000   \n",
       "Number of bedrooms                        0.043921   0.041680   \n",
       "House size (sqft)                         0.031696   0.009322   \n",
       "House price of unit area                  0.546307   0.523287   \n",
       "\n",
       "                                          Number of bedrooms  \\\n",
       "Transaction date                                    0.061985   \n",
       "House Age                                          -0.008756   \n",
       "Distance from nearest Metro station (km)           -0.046856   \n",
       "Number of convenience stores                        0.043638   \n",
       "latitude                                            0.043921   \n",
       "longitude                                           0.041680   \n",
       "Number of bedrooms                                  1.000000   \n",
       "House size (sqft)                                   0.752276   \n",
       "House price of unit area                            0.050265   \n",
       "\n",
       "                                          House size (sqft)  \\\n",
       "Transaction date                                   0.068405   \n",
       "House Age                                         -0.060361   \n",
       "Distance from nearest Metro station (km)           0.001795   \n",
       "Number of convenience stores                       0.033286   \n",
       "latitude                                           0.031696   \n",
       "longitude                                          0.009322   \n",
       "Number of bedrooms                                 0.752276   \n",
       "House size (sqft)                                  1.000000   \n",
       "House price of unit area                           0.046489   \n",
       "\n",
       "                                          House price of unit area  \n",
       "Transaction date                                          0.087529  \n",
       "House Age                                                -0.210567  \n",
       "Distance from nearest Metro station (km)                 -0.673613  \n",
       "Number of convenience stores                              0.571005  \n",
       "latitude                                                  0.546307  \n",
       "longitude                                                 0.523287  \n",
       "Number of bedrooms                                        0.050265  \n",
       "House size (sqft)                                         0.046489  \n",
       "House price of unit area                                  1.000000  "
      ]
     },
     "execution_count": 60,
     "metadata": {},
     "output_type": "execute_result"
    }
   ],
   "source": [
    "data.corr()"
   ]
  },
  {
   "cell_type": "code",
   "execution_count": 61,
   "id": "770c19fe",
   "metadata": {},
   "outputs": [
    {
     "data": {
      "image/png": "[encoded data removed]",
      "text/plain": [
       "<Figure size 720x504 with 2 Axes>"
      ]
     },
     "metadata": {
      "needs_background": "light"
     },
     "output_type": "display_data"
    }
   ],
   "source": [
    "plt.figure(figsize=(10,7))\n",
    "sns.heatmap(data.corr(),annot=True,vmax=1,vmin=-1,cmap='RdBu')\n",
    "plt.show()"
   ]
  },
  {
   "cell_type": "code",
   "execution_count": 62,
   "id": "2585dfb3",
   "metadata": {},
   "outputs": [
    {
     "data": {
      "text/plain": [
       "Distance from nearest Metro station (km)   -0.673613\n",
       "House Age                                  -0.210567\n",
       "House size (sqft)                           0.046489\n",
       "Number of bedrooms                          0.050265\n",
       "Transaction date                            0.087529\n",
       "longitude                                   0.523287\n",
       "latitude                                    0.546307\n",
       "Number of convenience stores                0.571005\n",
       "House price of unit area                    1.000000\n",
       "Name: House price of unit area, dtype: float64"
      ]
     },
     "execution_count": 62,
     "metadata": {},
     "output_type": "execute_result"
    }
   ],
   "source": [
    "data.corr()['House price of unit area'].sort_values(ascending=True)"
   ]
  },
  {
   "cell_type": "code",
   "execution_count": 63,
   "id": "2fd428ab",
   "metadata": {},
   "outputs": [],
   "source": [
    "# here we can see that \"House price of unit area\" have strong correlation with most of the features\n",
    "# which will be useful for us."
   ]
  },
  {
   "cell_type": "markdown",
   "id": "28d7d5a5",
   "metadata": {},
   "source": [
    "#  UNIVARIATE AND BI-VARIATE ANALYSIS"
   ]
  },
  {
   "cell_type": "code",
   "execution_count": 64,
   "id": "ca2ef0cc",
   "metadata": {},
   "outputs": [
    {
     "data": {
      "image/png": "[encoded data removed]",
      "text/plain": [
       "<Figure size 432x288 with 1 Axes>"
      ]
     },
     "metadata": {
      "needs_background": "light"
     },
     "output_type": "display_data"
    }
   ],
   "source": [
    "# explore target variable\n",
    "sns.histplot(data['House price of unit area'],bins=np.arange(0,130,10))\n",
    "plt.title(\"Histogram\")\n",
    "plt.show()"
   ]
  },
  {
   "cell_type": "code",
   "execution_count": 65,
   "id": "6e02e1a7",
   "metadata": {},
   "outputs": [
    {
     "data": {
      "image/png": "[encoded data removed]",
      "text/plain": [
       "<Figure size 432x288 with 1 Axes>"
      ]
     },
     "metadata": {
      "needs_background": "light"
     },
     "output_type": "display_data"
    },
    {
     "name": "stdout",
     "output_type": "stream",
     "text": [
      "Skewness  0.5998525842660576\n",
      "Kurtosis  2.1790970477396163\n"
     ]
    }
   ],
   "source": [
    "sns.distplot(data['House price of unit area'])\n",
    "plt.show()\n",
    "print('Skewness ',data['House price of unit area'].skew())\n",
    "print('Kurtosis ',data['House price of unit area'].kurt())\n"
   ]
  },
  {
   "cell_type": "code",
   "execution_count": 66,
   "id": "2d9902f2",
   "metadata": {},
   "outputs": [],
   "source": [
    "# here we can see that our data is little bit rightskewed due to ouliers present\n",
    "# kurtosis has value close to 2 and less than 3 so we will consider it platykurtic "
   ]
  },
  {
   "cell_type": "markdown",
   "id": "c5c77a03",
   "metadata": {},
   "source": [
    "# outlier treatment in target feature"
   ]
  },
  {
   "cell_type": "code",
   "execution_count": 67,
   "id": "4104ce85",
   "metadata": {},
   "outputs": [
    {
     "data": {
      "image/png": "[encoded data removed]",
      "text/plain": [
       "<Figure size 432x288 with 1 Axes>"
      ]
     },
     "metadata": {
      "needs_background": "light"
     },
     "output_type": "display_data"
    },
    {
     "data": {
      "text/plain": [
       "count    414.000000\n",
       "mean      37.980193\n",
       "std       13.606488\n",
       "min        7.600000\n",
       "25%       27.700000\n",
       "50%       38.450000\n",
       "75%       46.600000\n",
       "max      117.500000\n",
       "Name: House price of unit area, dtype: float64"
      ]
     },
     "execution_count": 67,
     "metadata": {},
     "output_type": "execute_result"
    }
   ],
   "source": [
    "sns.boxplot(data['House price of unit area'])\n",
    "plt.show()\n",
    "data['House price of unit area'].describe()"
   ]
  },
  {
   "cell_type": "code",
   "execution_count": 68,
   "id": "7ed99914",
   "metadata": {},
   "outputs": [
    {
     "data": {
      "text/plain": [
       "74.95"
      ]
     },
     "execution_count": 68,
     "metadata": {},
     "output_type": "execute_result"
    }
   ],
   "source": [
    "upper_bound=46.600000+1.5*(46.600000-27.700000)\n",
    "upper_bound"
   ]
  },
  {
   "cell_type": "code",
   "execution_count": 69,
   "id": "4eae9078",
   "metadata": {},
   "outputs": [
    {
     "data": {
      "text/plain": [
       "<AxesSubplot:xlabel='House size (sqft)', ylabel='House price of unit area'>"
      ]
     },
     "execution_count": 69,
     "metadata": {},
     "output_type": "execute_result"
    },
    {
     "data": {
      "image/png": "[encoded data removed]",
      "text/plain": [
       "<Figure size 432x288 with 1 Axes>"
      ]
     },
     "metadata": {
      "needs_background": "light"
     },
     "output_type": "display_data"
    }
   ],
   "source": [
    "# here eveything is normal except house size lets see the price of all houses size above 1300(sqft)\n",
    "sns.scatterplot(y='House price of unit area',x='House size (sqft)',data=data)"
   ]
  },
  {
   "cell_type": "code",
   "execution_count": 70,
   "id": "364d6f5f",
   "metadata": {},
   "outputs": [
    {
     "data": {
      "text/html": [
       "<div>\n",
       "<style scoped>\n",
       "    .dataframe tbody tr th:only-of-type {\n",
       "        vertical-align: middle;\n",
       "    }\n",
       "\n",
       "    .dataframe tbody tr th {\n",
       "        vertical-align: top;\n",
       "    }\n",
       "\n",
       "    .dataframe thead th {\n",
       "        text-align: right;\n",
       "    }\n",
       "</style>\n",
       "<table border=\"1\" class=\"dataframe\">\n",
       "  <thead>\n",
       "    <tr style=\"text-align: right;\">\n",
       "      <th></th>\n",
       "      <th>Transaction date</th>\n",
       "      <th>House Age</th>\n",
       "      <th>Distance from nearest Metro station (km)</th>\n",
       "      <th>Number of convenience stores</th>\n",
       "      <th>latitude</th>\n",
       "      <th>longitude</th>\n",
       "      <th>Number of bedrooms</th>\n",
       "      <th>House size (sqft)</th>\n",
       "      <th>House price of unit area</th>\n",
       "    </tr>\n",
       "  </thead>\n",
       "  <tbody>\n",
       "    <tr>\n",
       "      <th>220</th>\n",
       "      <td>2013.333333</td>\n",
       "      <td>37.2</td>\n",
       "      <td>186.5101</td>\n",
       "      <td>9</td>\n",
       "      <td>24.97703</td>\n",
       "      <td>121.54265</td>\n",
       "      <td>2</td>\n",
       "      <td>1187</td>\n",
       "      <td>78.3</td>\n",
       "    </tr>\n",
       "    <tr>\n",
       "      <th>270</th>\n",
       "      <td>2013.333333</td>\n",
       "      <td>10.8</td>\n",
       "      <td>252.5822</td>\n",
       "      <td>1</td>\n",
       "      <td>24.97460</td>\n",
       "      <td>121.53046</td>\n",
       "      <td>2</td>\n",
       "      <td>1373</td>\n",
       "      <td>117.5</td>\n",
       "    </tr>\n",
       "    <tr>\n",
       "      <th>312</th>\n",
       "      <td>2013.583333</td>\n",
       "      <td>35.4</td>\n",
       "      <td>318.5292</td>\n",
       "      <td>9</td>\n",
       "      <td>24.97071</td>\n",
       "      <td>121.54069</td>\n",
       "      <td>1</td>\n",
       "      <td>433</td>\n",
       "      <td>78.0</td>\n",
       "    </tr>\n",
       "  </tbody>\n",
       "</table>\n",
       "</div>"
      ],
      "text/plain": [
       "     Transaction date  House Age  Distance from nearest Metro station (km)  \\\n",
       "220       2013.333333       37.2                                  186.5101   \n",
       "270       2013.333333       10.8                                  252.5822   \n",
       "312       2013.583333       35.4                                  318.5292   \n",
       "\n",
       "     Number of convenience stores  latitude  longitude  Number of bedrooms  \\\n",
       "220                             9  24.97703  121.54265                   2   \n",
       "270                             1  24.97460  121.53046                   2   \n",
       "312                             9  24.97071  121.54069                   1   \n",
       "\n",
       "     House size (sqft)  House price of unit area  \n",
       "220               1187                      78.3  \n",
       "270               1373                     117.5  \n",
       "312                433                      78.0  "
      ]
     },
     "execution_count": 70,
     "metadata": {},
     "output_type": "execute_result"
    }
   ],
   "source": [
    "data[data[\"House price of unit area\"]>upper_bound]"
   ]
  },
  {
   "cell_type": "code",
   "execution_count": 71,
   "id": "f8191f57",
   "metadata": {},
   "outputs": [],
   "source": [
    "# here have only one outlier now we can drop it \n",
    "data=data.drop(index=[220,270,312])"
   ]
  },
  {
   "cell_type": "code",
   "execution_count": 72,
   "id": "35dc35ad",
   "metadata": {},
   "outputs": [
    {
     "data": {
      "image/png": "[encoded data removed]",
      "text/plain": [
       "<Figure size 432x288 with 1 Axes>"
      ]
     },
     "metadata": {
      "needs_background": "light"
     },
     "output_type": "display_data"
    }
   ],
   "source": [
    "sns.boxplot(data['House price of unit area'])\n",
    "plt.show()"
   ]
  },
  {
   "cell_type": "code",
   "execution_count": 75,
   "id": "290b08f3",
   "metadata": {},
   "outputs": [
    {
     "data": {
      "text/plain": [
       "<AxesSubplot:xlabel='Transaction date', ylabel='House price of unit area'>"
      ]
     },
     "execution_count": 75,
     "metadata": {},
     "output_type": "execute_result"
    },
    {
     "data": {
      "image/png": "[encoded data removed]",
      "text/plain": [
       "<Figure size 432x288 with 1 Axes>"
      ]
     },
     "metadata": {
      "needs_background": "light"
     },
     "output_type": "display_data"
    }
   ],
   "source": [
    "sns.scatterplot(y='House price of unit area',x='Transaction date',data=data)"
   ]
  },
  {
   "cell_type": "code",
   "execution_count": 78,
   "id": "dc6b55c4",
   "metadata": {},
   "outputs": [],
   "source": [
    "value=np.median(data['Transaction date'])\n",
    "price_a=data[data['Transaction date']<=value]['House price of unit area']\n",
    "price_b=data[data['Transaction date']>value]['House price of unit area']"
   ]
  },
  {
   "cell_type": "code",
   "execution_count": 89,
   "id": "10b6ee5b",
   "metadata": {},
   "outputs": [
    {
     "name": "stdout",
     "output_type": "stream",
     "text": [
      "Z_SCORE:  -1.5058599690463124\n",
      "P_VALUE:  0.13210312476419103\n",
      "Accept the H0 i.e, there is no difference in price of both sample drawn.\n",
      "Correlation b/w and 'House price of unit area' and 'Transaction date':-  0.06701972972937202\n"
     ]
    }
   ],
   "source": [
    "# H0-here is no difference in price of sample a and sample b\n",
    "# H1- the two samples have difference in price.\n",
    "\n",
    "z_score,p_value=ztest(price_a,price_b)\n",
    "print('Z_SCORE: ',z_score)\n",
    "print('P_VALUE: ',p_value)\n",
    "if(p_value<0.05):\n",
    "    print('Accept the H1 i.e, there is diffenece in price of sample a and sample b')\n",
    "else:\n",
    "    print(\"Accept the H0 i.e, there is no difference in price of both sample drawn.\")\n",
    "\n",
    "\n",
    "    print(\"Correlation b/w and 'House price of unit area' and 'Transaction date':- \",np.corrcoef(data['House price of unit area'],data['Transaction date'])[0][1])"
   ]
  },
  {
   "cell_type": "code",
   "execution_count": 90,
   "id": "299de86b",
   "metadata": {},
   "outputs": [],
   "source": [
    "# we have proved that house price have very low correlation withp- value greater than 0.05 \n",
    "# we can drop this feature with of no sinificant use"
   ]
  },
  {
   "cell_type": "code",
   "execution_count": 91,
   "id": "1eb9f317",
   "metadata": {},
   "outputs": [],
   "source": [
    "data=data.drop(columns='Transaction date',axis=1)"
   ]
  },
  {
   "cell_type": "code",
   "execution_count": 93,
   "id": "8654f27b",
   "metadata": {},
   "outputs": [
    {
     "data": {
      "text/html": [
       "<div>\n",
       "<style scoped>\n",
       "    .dataframe tbody tr th:only-of-type {\n",
       "        vertical-align: middle;\n",
       "    }\n",
       "\n",
       "    .dataframe tbody tr th {\n",
       "        vertical-align: top;\n",
       "    }\n",
       "\n",
       "    .dataframe thead th {\n",
       "        text-align: right;\n",
       "    }\n",
       "</style>\n",
       "<table border=\"1\" class=\"dataframe\">\n",
       "  <thead>\n",
       "    <tr style=\"text-align: right;\">\n",
       "      <th></th>\n",
       "      <th>House Age</th>\n",
       "      <th>Distance from nearest Metro station (km)</th>\n",
       "      <th>Number of convenience stores</th>\n",
       "      <th>latitude</th>\n",
       "      <th>longitude</th>\n",
       "      <th>Number of bedrooms</th>\n",
       "      <th>House size (sqft)</th>\n",
       "      <th>House price of unit area</th>\n",
       "    </tr>\n",
       "  </thead>\n",
       "  <tbody>\n",
       "    <tr>\n",
       "      <th>0</th>\n",
       "      <td>32.0</td>\n",
       "      <td>84.87882</td>\n",
       "      <td>10</td>\n",
       "      <td>24.98298</td>\n",
       "      <td>121.54024</td>\n",
       "      <td>1</td>\n",
       "      <td>575</td>\n",
       "      <td>37.9</td>\n",
       "    </tr>\n",
       "    <tr>\n",
       "      <th>1</th>\n",
       "      <td>19.5</td>\n",
       "      <td>306.59470</td>\n",
       "      <td>9</td>\n",
       "      <td>24.98034</td>\n",
       "      <td>121.53951</td>\n",
       "      <td>2</td>\n",
       "      <td>1240</td>\n",
       "      <td>42.2</td>\n",
       "    </tr>\n",
       "  </tbody>\n",
       "</table>\n",
       "</div>"
      ],
      "text/plain": [
       "   House Age  Distance from nearest Metro station (km)  \\\n",
       "0       32.0                                  84.87882   \n",
       "1       19.5                                 306.59470   \n",
       "\n",
       "   Number of convenience stores  latitude  longitude  Number of bedrooms  \\\n",
       "0                            10  24.98298  121.54024                   1   \n",
       "1                             9  24.98034  121.53951                   2   \n",
       "\n",
       "   House size (sqft)  House price of unit area  \n",
       "0                575                      37.9  \n",
       "1               1240                      42.2  "
      ]
     },
     "execution_count": 93,
     "metadata": {},
     "output_type": "execute_result"
    }
   ],
   "source": [
    "data.head(2)"
   ]
  },
  {
   "cell_type": "code",
   "execution_count": 147,
   "id": "0b9ecfe2",
   "metadata": {},
   "outputs": [
    {
     "name": "stderr",
     "output_type": "stream",
     "text": [
      "No artists with labels found to put in legend.  Note that artists whose label start with an underscore are ignored when legend() is called with no argument.\n"
     ]
    },
    {
     "data": {
      "text/plain": [
       "<matplotlib.legend.Legend at 0x8ec33c32b0>"
      ]
     },
     "execution_count": 147,
     "metadata": {},
     "output_type": "execute_result"
    },
    {
     "data": {
      "image/png": "[encoded data removed]",
      "text/plain": [
       "<Figure size 720x504 with 2 Axes>"
      ]
     },
     "metadata": {
      "needs_background": "light"
     },
     "output_type": "display_data"
    }
   ],
   "source": [
    "data.plot(kind=\"scatter\", x=\"longitude\", y=\"latitude\", alpha=0.4,\n",
    " figsize=(10,7),c=\"House price of unit area\", cmap=plt.get_cmap(\"jet\"), colorbar=True,)\n",
    "plt.legend()"
   ]
  },
  {
   "cell_type": "code",
   "execution_count": 148,
   "id": "2a525ba4",
   "metadata": {},
   "outputs": [],
   "source": [
    "# here we can see that the houses in the northeast of the map have prices "
   ]
  },
  {
   "cell_type": "markdown",
   "id": "625193e8",
   "metadata": {},
   "source": [
    "# Train Test  Split\n"
   ]
  },
  {
   "cell_type": "code",
   "execution_count": 149,
   "id": "c2f6951d",
   "metadata": {},
   "outputs": [],
   "source": [
    "X= data.drop(columns=['House price of unit area'])\n",
    "y= data['House price of unit area']"
   ]
  },
  {
   "cell_type": "code",
   "execution_count": 150,
   "id": "65e23ec2",
   "metadata": {},
   "outputs": [],
   "source": [
    "x_train,x_test,y_train,y_test=train_test_split(X,y,train_size=0.7,random_state=100)"
   ]
  },
  {
   "cell_type": "code",
   "execution_count": 151,
   "id": "30785aa3",
   "metadata": {},
   "outputs": [
    {
     "name": "stdout",
     "output_type": "stream",
     "text": [
      "(287, 7) (124, 7) (287,) (124,)\n"
     ]
    }
   ],
   "source": [
    "print(x_train.shape,x_test.shape,y_train.shape,y_test.shape)"
   ]
  },
  {
   "cell_type": "markdown",
   "id": "54dfb83f",
   "metadata": {},
   "source": [
    "# Apply Machine Learning Alogrithms"
   ]
  },
  {
   "cell_type": "markdown",
   "id": "aaad4902",
   "metadata": {},
   "source": [
    "## Linear Regression"
   ]
  },
  {
   "cell_type": "code",
   "execution_count": 152,
   "id": "d93b7283",
   "metadata": {},
   "outputs": [],
   "source": [
    "model_lr=LinearRegression()"
   ]
  },
  {
   "cell_type": "code",
   "execution_count": 153,
   "id": "3e4801d2",
   "metadata": {},
   "outputs": [
    {
     "data": {
      "text/html": [
       "<style>#sk-container-id-3 {color: black;background-color: white;}#sk-container-id-3 pre{padding: 0;}#sk-container-id-3 div.sk-toggleable {background-color: white;}#sk-container-id-3 label.sk-toggleable__label {cursor: pointer;display: block;width: 100%;margin-bottom: 0;padding: 0.3em;box-sizing: border-box;text-align: center;}#sk-container-id-3 label.sk-toggleable__label-arrow:before {content: \"▸\";float: left;margin-right: 0.25em;color: #696969;}#sk-container-id-3 label.sk-toggleable__label-arrow:hover:before {color: black;}#sk-container-id-3 div.sk-estimator:hover label.sk-toggleable__label-arrow:before {color: black;}#sk-container-id-3 div.sk-toggleable__content {max-height: 0;max-width: 0;overflow: hidden;text-align: left;background-color: #f0f8ff;}#sk-container-id-3 div.sk-toggleable__content pre {margin: 0.2em;color: black;border-radius: 0.25em;background-color: #f0f8ff;}#sk-container-id-3 input.sk-toggleable__control:checked~div.sk-toggleable__content {max-height: 200px;max-width: 100%;overflow: auto;}#sk-container-id-3 input.sk-toggleable__control:checked~label.sk-toggleable__label-arrow:before {content: \"▾\";}#sk-container-id-3 div.sk-estimator input.sk-toggleable__control:checked~label.sk-toggleable__label {background-color: #d4ebff;}#sk-container-id-3 div.sk-label input.sk-toggleable__control:checked~label.sk-toggleable__label {background-color: #d4ebff;}#sk-container-id-3 input.sk-hidden--visually {border: 0;clip: rect(1px 1px 1px 1px);clip: rect(1px, 1px, 1px, 1px);height: 1px;margin: -1px;overflow: hidden;padding: 0;position: absolute;width: 1px;}#sk-container-id-3 div.sk-estimator {font-family: monospace;background-color: #f0f8ff;border: 1px dotted black;border-radius: 0.25em;box-sizing: border-box;margin-bottom: 0.5em;}#sk-container-id-3 div.sk-estimator:hover {background-color: #d4ebff;}#sk-container-id-3 div.sk-parallel-item::after {content: \"\";width: 100%;border-bottom: 1px solid gray;flex-grow: 1;}#sk-container-id-3 div.sk-label:hover label.sk-toggleable__label {background-color: #d4ebff;}#sk-container-id-3 div.sk-serial::before {content: \"\";position: absolute;border-left: 1px solid gray;box-sizing: border-box;top: 0;bottom: 0;left: 50%;z-index: 0;}#sk-container-id-3 div.sk-serial {display: flex;flex-direction: column;align-items: center;background-color: white;padding-right: 0.2em;padding-left: 0.2em;position: relative;}#sk-container-id-3 div.sk-item {position: relative;z-index: 1;}#sk-container-id-3 div.sk-parallel {display: flex;align-items: stretch;justify-content: center;background-color: white;position: relative;}#sk-container-id-3 div.sk-item::before, #sk-container-id-3 div.sk-parallel-item::before {content: \"\";position: absolute;border-left: 1px solid gray;box-sizing: border-box;top: 0;bottom: 0;left: 50%;z-index: -1;}#sk-container-id-3 div.sk-parallel-item {display: flex;flex-direction: column;z-index: 1;position: relative;background-color: white;}#sk-container-id-3 div.sk-parallel-item:first-child::after {align-self: flex-end;width: 50%;}#sk-container-id-3 div.sk-parallel-item:last-child::after {align-self: flex-start;width: 50%;}#sk-container-id-3 div.sk-parallel-item:only-child::after {width: 0;}#sk-container-id-3 div.sk-dashed-wrapped {border: 1px dashed gray;margin: 0 0.4em 0.5em 0.4em;box-sizing: border-box;padding-bottom: 0.4em;background-color: white;}#sk-container-id-3 div.sk-label label {font-family: monospace;font-weight: bold;display: inline-block;line-height: 1.2em;}#sk-container-id-3 div.sk-label-container {text-align: center;}#sk-container-id-3 div.sk-container {/* jupyter's `normalize.less` sets `[hidden] { display: none; }` but bootstrap.min.css set `[hidden] { display: none !important; }` so we also need the `!important` here to be able to override the default hidden behavior on the sphinx rendered scikit-learn.org. See: https://github.com/scikit-learn/scikit-learn/issues/21755 */display: inline-block !important;position: relative;}#sk-container-id-3 div.sk-text-repr-fallback {display: none;}</style><div id=\"sk-container-id-3\" class=\"sk-top-container\"><div class=\"sk-text-repr-fallback\"><pre>LinearRegression()</pre><b>In a Jupyter environment, please rerun this cell to show the HTML representation or trust the notebook. <br />On GitHub, the HTML representation is unable to render, please try loading this page with nbviewer.org.</b></div><div class=\"sk-container\" hidden><div class=\"sk-item\"><div class=\"sk-estimator sk-toggleable\"><input class=\"sk-toggleable__control sk-hidden--visually\" id=\"sk-estimator-id-3\" type=\"checkbox\" checked><label for=\"sk-estimator-id-3\" class=\"sk-toggleable__label sk-toggleable__label-arrow\">LinearRegression</label><div class=\"sk-toggleable__content\"><pre>LinearRegression()</pre></div></div></div></div></div>"
      ],
      "text/plain": [
       "LinearRegression()"
      ]
     },
     "execution_count": 153,
     "metadata": {},
     "output_type": "execute_result"
    }
   ],
   "source": [
    "model_lr.fit(x_train,y_train)"
   ]
  },
  {
   "cell_type": "code",
   "execution_count": 154,
   "id": "3a4357eb",
   "metadata": {},
   "outputs": [
    {
     "data": {
      "text/plain": [
       "array([-2.83011630e-01, -4.02768408e-03,  1.15346493e+00,  2.26826955e+02,\n",
       "        1.04265696e+00,  3.24217385e-01, -9.89855848e-04])"
      ]
     },
     "execution_count": 154,
     "metadata": {},
     "output_type": "execute_result"
    }
   ],
   "source": [
    "model_lr.coef_"
   ]
  },
  {
   "cell_type": "code",
   "execution_count": 155,
   "id": "b3fcb407",
   "metadata": {},
   "outputs": [
    {
     "data": {
      "text/plain": [
       "-5747.417370588003"
      ]
     },
     "execution_count": 155,
     "metadata": {},
     "output_type": "execute_result"
    }
   ],
   "source": [
    "model_lr.intercept_"
   ]
  },
  {
   "cell_type": "code",
   "execution_count": 156,
   "id": "538e3a23",
   "metadata": {},
   "outputs": [],
   "source": [
    "pred_y=model_lr.predict(x_test)"
   ]
  },
  {
   "cell_type": "code",
   "execution_count": 229,
   "id": "d0776c54",
   "metadata": {},
   "outputs": [
    {
     "name": "stdout",
     "output_type": "stream",
     "text": [
      "[2, 3, 5, 7, 11, 13, 17, 19, 23, 29, 31, 37, 41, 43, 47, 53, 59, 61, 67, 71, 73, 79, 83, 89, 97, 101, 103, 107, 109, 113, 127, 131, 137, 139, 149, 151, 157, 163, 167, 173, 179, 181, 191, 193, 197, 199]\n"
     ]
    }
   ],
   "source": [
    "print([p for p in range(2,201) if not [q for q in range(2, p-1) if not p%q]])"
   ]
  },
  {
   "cell_type": "markdown",
   "id": "b3addc90",
   "metadata": {},
   "source": [
    "# function for validation"
   ]
  },
  {
   "cell_type": "code",
   "execution_count": 198,
   "id": "5a3ad047",
   "metadata": {},
   "outputs": [],
   "source": [
    "def validation(test,pred,data):\n",
    "    r2=r2_score(test,pred)\n",
    "    n=data_scaled.shape[0]\n",
    "    k=data_scaled.shape[1]\n",
    "    adj_2=1-(((n-1)/(n-k-1))*(1-r2))\n",
    "    \n",
    "    print(\"R Square :\",r2)\n",
    "    print(\"Adj. R Square :\",adj_2)\n",
    "    print(\"Mean Square Error :\",mean_squared_error(test,pred))\n",
    "    print(\"Root Mean Square Error :\",(mean_squared_error(test,pred)**0.5))\n",
    "    print(\"Mean Absolute Percentage Error :\",mean_absolute_percentage_error(test,pred))\n",
    "          \n",
    "    Mat= [r2,adj_2,mean_squared_error(test,pred),mean_squared_error(test,pred)**0.5,mean_absolute_percentage_error(test,pred)]\n",
    "    return Mat"
   ]
  },
  {
   "cell_type": "markdown",
   "id": "ebfac58f",
   "metadata": {},
   "source": [
    "## Others Models"
   ]
  },
  {
   "cell_type": "code",
   "execution_count": 199,
   "id": "c4d0752c",
   "metadata": {},
   "outputs": [],
   "source": [
    "validation_dict={}\n",
    "def different_model(model):\n",
    "    ml=model()\n",
    "    \n",
    "    ml.fit(x_train,y_train)\n",
    "    \n",
    "    pred_y = ml.predict(x_test)\n",
    "    \n",
    "    return_list=validation(y_test,pred_y,data)\n",
    "    validation_dict[model]=return_list"
   ]
  },
  {
   "cell_type": "code",
   "execution_count": 227,
   "id": "9db816a9",
   "metadata": {},
   "outputs": [
    {
     "name": "stdout",
     "output_type": "stream",
     "text": [
      "R Square : 0.6698985391093779\n",
      "Adj. R Square : 0.663329355808072\n",
      "Mean Square Error : 39.40479103918291\n",
      "Root Mean Square Error : 6.2773235569932915\n",
      "Mean Absolute Percentage Error : 0.14559791385470075\n"
     ]
    }
   ],
   "source": [
    "# Linear Regression\n",
    "different_model(LinearRegression)"
   ]
  },
  {
   "cell_type": "code",
   "execution_count": 200,
   "id": "b18ae3ab",
   "metadata": {},
   "outputs": [
    {
     "name": "stdout",
     "output_type": "stream",
     "text": [
      "R Square : 0.38677745828659016\n",
      "Adj. R Square : 0.3745740246206517\n",
      "Mean Square Error : 73.20145161290324\n",
      "Root Mean Square Error : 8.555784687151919\n",
      "Mean Absolute Percentage Error : 0.17831446263820097\n"
     ]
    }
   ],
   "source": [
    "# Decision Tree\n",
    "different_model(DecisionTreeRegressor)"
   ]
  },
  {
   "cell_type": "code",
   "execution_count": 201,
   "id": "37b8f7f3",
   "metadata": {},
   "outputs": [
    {
     "name": "stdout",
     "output_type": "stream",
     "text": [
      "R Square : 0.7660478000230264\n",
      "Adj. R Square : 0.7613920348493554\n",
      "Mean Square Error : 27.92728492741935\n",
      "Root Mean Square Error : 5.284627226911975\n",
      "Mean Absolute Percentage Error : 0.125650994133705\n"
     ]
    }
   ],
   "source": [
    "# Random Forest\n",
    "different_model(RandomForestRegressor)"
   ]
  },
  {
   "cell_type": "code",
   "execution_count": 202,
   "id": "a0a891da",
   "metadata": {},
   "outputs": [
    {
     "name": "stdout",
     "output_type": "stream",
     "text": [
      "R Square : 0.5411190233892564\n",
      "Adj. R Square : 0.5319870636557094\n",
      "Mean Square Error : 54.777427965379324\n",
      "Root Mean Square Error : 7.401177471550005\n",
      "Mean Absolute Percentage Error : 0.16009480783576116\n"
     ]
    }
   ],
   "source": [
    "# Support Vector Machine\n",
    "different_model(SVR)"
   ]
  },
  {
   "cell_type": "code",
   "execution_count": 203,
   "id": "7afb1f7c",
   "metadata": {},
   "outputs": [
    {
     "name": "stdout",
     "output_type": "stream",
     "text": [
      "R Square : 0.6241614062418311\n",
      "Adj. R Square : 0.6166820312416685\n",
      "Mean Square Error : 44.8645129032258\n",
      "Root Mean Square Error : 6.698097707799268\n",
      "Mean Absolute Percentage Error : 0.14702610929936377\n"
     ]
    }
   ],
   "source": [
    "# K- Nearest Neighbour\n",
    "different_model(KNeighborsRegressor)"
   ]
  },
  {
   "cell_type": "code",
   "execution_count": 209,
   "id": "bd272b86",
   "metadata": {},
   "outputs": [],
   "source": [
    "Error_Table=pd.DataFrame(validation_dict)"
   ]
  },
  {
   "cell_type": "code",
   "execution_count": 220,
   "id": "c79e0fa3",
   "metadata": {},
   "outputs": [],
   "source": [
    "Error_Table.columns=['DT','RF','SVR','KNN','LR']"
   ]
  },
  {
   "cell_type": "code",
   "execution_count": 222,
   "id": "80fb55c5",
   "metadata": {},
   "outputs": [],
   "source": [
    "Error_Table=Error_Table.T"
   ]
  },
  {
   "cell_type": "code",
   "execution_count": 225,
   "id": "0310271b",
   "metadata": {},
   "outputs": [],
   "source": [
    "Error_Table.columns=['R-Squared','Adj-R-Squared','MSE','RSME','MAPE']"
   ]
  },
  {
   "cell_type": "code",
   "execution_count": 226,
   "id": "d056c59a",
   "metadata": {},
   "outputs": [
    {
     "data": {
      "text/html": [
       "<div>\n",
       "<style scoped>\n",
       "    .dataframe tbody tr th:only-of-type {\n",
       "        vertical-align: middle;\n",
       "    }\n",
       "\n",
       "    .dataframe tbody tr th {\n",
       "        vertical-align: top;\n",
       "    }\n",
       "\n",
       "    .dataframe thead th {\n",
       "        text-align: right;\n",
       "    }\n",
       "</style>\n",
       "<table border=\"1\" class=\"dataframe\">\n",
       "  <thead>\n",
       "    <tr style=\"text-align: right;\">\n",
       "      <th></th>\n",
       "      <th>R-Squared</th>\n",
       "      <th>Adj-R-Squared</th>\n",
       "      <th>MSE</th>\n",
       "      <th>RSME</th>\n",
       "      <th>MAPE</th>\n",
       "    </tr>\n",
       "  </thead>\n",
       "  <tbody>\n",
       "    <tr>\n",
       "      <th>DT</th>\n",
       "      <td>0.386777</td>\n",
       "      <td>0.374574</td>\n",
       "      <td>73.201452</td>\n",
       "      <td>8.555785</td>\n",
       "      <td>0.178314</td>\n",
       "    </tr>\n",
       "    <tr>\n",
       "      <th>RF</th>\n",
       "      <td>0.766048</td>\n",
       "      <td>0.761392</td>\n",
       "      <td>27.927285</td>\n",
       "      <td>5.284627</td>\n",
       "      <td>0.125651</td>\n",
       "    </tr>\n",
       "    <tr>\n",
       "      <th>SVR</th>\n",
       "      <td>0.541119</td>\n",
       "      <td>0.531987</td>\n",
       "      <td>54.777428</td>\n",
       "      <td>7.401177</td>\n",
       "      <td>0.160095</td>\n",
       "    </tr>\n",
       "    <tr>\n",
       "      <th>KNN</th>\n",
       "      <td>0.624161</td>\n",
       "      <td>0.616682</td>\n",
       "      <td>44.864513</td>\n",
       "      <td>6.698098</td>\n",
       "      <td>0.147026</td>\n",
       "    </tr>\n",
       "    <tr>\n",
       "      <th>LR</th>\n",
       "      <td>0.669899</td>\n",
       "      <td>0.663329</td>\n",
       "      <td>39.404791</td>\n",
       "      <td>6.277324</td>\n",
       "      <td>0.145598</td>\n",
       "    </tr>\n",
       "  </tbody>\n",
       "</table>\n",
       "</div>"
      ],
      "text/plain": [
       "     R-Squared  Adj-R-Squared        MSE      RSME      MAPE\n",
       "DT    0.386777       0.374574  73.201452  8.555785  0.178314\n",
       "RF    0.766048       0.761392  27.927285  5.284627  0.125651\n",
       "SVR   0.541119       0.531987  54.777428  7.401177  0.160095\n",
       "KNN   0.624161       0.616682  44.864513  6.698098  0.147026\n",
       "LR    0.669899       0.663329  39.404791  6.277324  0.145598"
      ]
     },
     "execution_count": 226,
     "metadata": {},
     "output_type": "execute_result"
    }
   ],
   "source": [
    "Error_Table"
   ]
  },
  {
   "cell_type": "code",
   "execution_count": 183,
   "id": "edf4f8d8",
   "metadata": {},
   "outputs": [],
   "source": [
    "# here we can see that our Random Forest and Linear Regression are top performing Models"
   ]
  },
  {
   "cell_type": "markdown",
   "id": "7c7ae8b5",
   "metadata": {},
   "source": [
    "# Hypertuining of Random Forest"
   ]
  },
  {
   "cell_type": "code",
   "execution_count": null,
   "id": "e65dd9a3",
   "metadata": {},
   "outputs": [],
   "source": []
  },
  {
   "cell_type": "code",
   "execution_count": 195,
   "id": "2b1e569c",
   "metadata": {},
   "outputs": [
    {
     "name": "stdout",
     "output_type": "stream",
     "text": [
      "R Square : 0.6698985391093779\n",
      "Adj. R Square : 0.663329355808072\n",
      "Mean Square Error : 39.40479103918291\n",
      "Root Mean Square Error : 6.2773235569932915\n",
      "Mean Absolute Percentage Error : 0.14559791385470075\n"
     ]
    }
   ],
   "source": []
  },
  {
   "cell_type": "code",
   "execution_count": 192,
   "id": "64367bf3",
   "metadata": {},
   "outputs": [
    {
     "data": {
      "text/plain": [
       "[0.6698985391093779,\n",
       " 0.663329355808072,\n",
       " 39.40479103918291,\n",
       " 6.2773235569932915,\n",
       " 0.14559791385470075]"
      ]
     },
     "execution_count": 192,
     "metadata": {},
     "output_type": "execute_result"
    }
   ],
   "source": []
  },
  {
   "cell_type": "code",
   "execution_count": null,
   "id": "d4f94f09",
   "metadata": {},
   "outputs": [],
   "source": []
  }
 ],
 "metadata": {
  "kernelspec": {
   "display_name": "Python 3 (ipykernel)",
   "language": "python",
   "name": "python3"
  },
  "language_info": {
   "codemirror_mode": {
    "name": "ipython",
    "version": 3
   },
   "file_extension": ".py",
   "mimetype": "text/x-python",
   "name": "python",
   "nbconvert_exporter": "python",
   "pygments_lexer": "ipython3",
   "version": "3.9.12"
  }
 },
 "nbformat": 4,
 "nbformat_minor": 5
}
