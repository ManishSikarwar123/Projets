{
 "cells": [
  {
   "cell_type": "code",
   "execution_count": 2,
   "id": "417a70bb",
   "metadata": {},
   "outputs": [],
   "source": [
    "# import the librarys \n",
    "import pandas as pd\n",
    "import numpy as np\n",
    "import matplotlib.pyplot as plt \n",
    "from matplotlib.pyplot import figure\n",
    "from matplotlib.backends.backend_pdf import PdfPages\n",
    "import seaborn as sns \n",
    "import warnings\n",
    "warnings.filterwarnings('ignore')"
   ]
  },
  {
   "cell_type": "code",
   "execution_count": 3,
   "id": "76eb3075",
   "metadata": {},
   "outputs": [
    {
     "name": "stdout",
     "output_type": "stream",
     "text": [
      "(45466, 24)\n",
      "(45476, 3)\n"
     ]
    }
   ],
   "source": [
    "data=pd.read_csv(\"movies_metadata.csv\")\n",
    "df=pd.read_csv(\"credits.csv\")\n",
    "print(data.shape)\n",
    "print(df.shape)"
   ]
  },
  {
   "cell_type": "code",
   "execution_count": 4,
   "id": "bd762687",
   "metadata": {},
   "outputs": [
    {
     "name": "stdout",
     "output_type": "stream",
     "text": [
      "<class 'pandas.core.frame.DataFrame'>\n",
      "RangeIndex: 45466 entries, 0 to 45465\n",
      "Data columns (total 24 columns):\n",
      " #   Column                 Non-Null Count  Dtype  \n",
      "---  ------                 --------------  -----  \n",
      " 0   adult                  45466 non-null  object \n",
      " 1   belongs_to_collection  4494 non-null   object \n",
      " 2   budget                 45466 non-null  object \n",
      " 3   genres                 45466 non-null  object \n",
      " 4   homepage               7782 non-null   object \n",
      " 5   id                     45466 non-null  object \n",
      " 6   imdb_id                45449 non-null  object \n",
      " 7   original_language      45455 non-null  object \n",
      " 8   original_title         45466 non-null  object \n",
      " 9   overview               44512 non-null  object \n",
      " 10  popularity             45461 non-null  object \n",
      " 11  poster_path            45080 non-null  object \n",
      " 12  production_companies   45463 non-null  object \n",
      " 13  production_countries   45463 non-null  object \n",
      " 14  release_date           45379 non-null  object \n",
      " 15  revenue                45460 non-null  float64\n",
      " 16  runtime                45203 non-null  float64\n",
      " 17  spoken_languages       45460 non-null  object \n",
      " 18  status                 45379 non-null  object \n",
      " 19  tagline                20412 non-null  object \n",
      " 20  title                  45460 non-null  object \n",
      " 21  video                  45460 non-null  object \n",
      " 22  vote_average           45460 non-null  float64\n",
      " 23  vote_count             45460 non-null  float64\n",
      "dtypes: float64(4), object(20)\n",
      "memory usage: 8.3+ MB\n"
     ]
    }
   ],
   "source": [
    "data.info()"
   ]
  },
  {
   "cell_type": "code",
   "execution_count": 5,
   "id": "1a20d6f9",
   "metadata": {},
   "outputs": [
    {
     "name": "stdout",
     "output_type": "stream",
     "text": [
      "<class 'pandas.core.frame.DataFrame'>\n",
      "RangeIndex: 45476 entries, 0 to 45475\n",
      "Data columns (total 3 columns):\n",
      " #   Column  Non-Null Count  Dtype \n",
      "---  ------  --------------  ----- \n",
      " 0   cast    45476 non-null  object\n",
      " 1   crew    45476 non-null  object\n",
      " 2   id      45476 non-null  int64 \n",
      "dtypes: int64(1), object(2)\n",
      "memory usage: 1.0+ MB\n"
     ]
    }
   ],
   "source": [
    "df.info()"
   ]
  },
  {
   "cell_type": "code",
   "execution_count": 6,
   "id": "9a1abe1a",
   "metadata": {},
   "outputs": [],
   "source": [
    "# both the col id col is common but  first we have to change data type and make same datatype\n",
    "data['id'] = pd.to_numeric(data['id'],errors = 'coerce')"
   ]
  },
  {
   "cell_type": "code",
   "execution_count": 7,
   "id": "e0685cb2",
   "metadata": {},
   "outputs": [
    {
     "data": {
      "text/plain": [
       "3"
      ]
     },
     "execution_count": 7,
     "metadata": {},
     "output_type": "execute_result"
    }
   ],
   "source": [
    "data['id'].isnull().sum()"
   ]
  },
  {
   "cell_type": "code",
   "execution_count": 8,
   "id": "d3f679bf",
   "metadata": {},
   "outputs": [],
   "source": [
    "# we simple drop that 3 null valus \n",
    "data.dropna(subset=[\"id\"],inplace=True)"
   ]
  },
  {
   "cell_type": "code",
   "execution_count": 9,
   "id": "70a3d480",
   "metadata": {},
   "outputs": [],
   "source": [
    "#data['id'].fillna(method='ffill',inplace=True)"
   ]
  },
  {
   "cell_type": "code",
   "execution_count": 10,
   "id": "42f9abe1",
   "metadata": {},
   "outputs": [],
   "source": [
    "data[\"id\"]=data[\"id\"].astype(int)"
   ]
  },
  {
   "cell_type": "code",
   "execution_count": 11,
   "id": "dbfc9237",
   "metadata": {},
   "outputs": [],
   "source": [
    "#merge the data on id col\n",
    "data_set=pd.merge(data,df,on='id')"
   ]
  },
  {
   "cell_type": "code",
   "execution_count": 12,
   "id": "7bd8ca43",
   "metadata": {},
   "outputs": [
    {
     "data": {
      "text/plain": [
       "(45538, 26)"
      ]
     },
     "execution_count": 12,
     "metadata": {},
     "output_type": "execute_result"
    }
   ],
   "source": [
    "data_set.shape"
   ]
  },
  {
   "cell_type": "code",
   "execution_count": 13,
   "id": "9629c1f6",
   "metadata": {},
   "outputs": [
    {
     "data": {
      "text/plain": [
       "0      862\n",
       "1     8844\n",
       "2    15602\n",
       "3    31357\n",
       "4    11862\n",
       "Name: id, dtype: int32"
      ]
     },
     "execution_count": 13,
     "metadata": {},
     "output_type": "execute_result"
    }
   ],
   "source": [
    "data_set['id'].head()"
   ]
  },
  {
   "cell_type": "code",
   "execution_count": 14,
   "id": "e46d93aa",
   "metadata": {},
   "outputs": [
    {
     "data": {
      "text/html": [
       "<div>\n",
       "<style scoped>\n",
       "    .dataframe tbody tr th:only-of-type {\n",
       "        vertical-align: middle;\n",
       "    }\n",
       "\n",
       "    .dataframe tbody tr th {\n",
       "        vertical-align: top;\n",
       "    }\n",
       "\n",
       "    .dataframe thead th {\n",
       "        text-align: right;\n",
       "    }\n",
       "</style>\n",
       "<table border=\"1\" class=\"dataframe\">\n",
       "  <thead>\n",
       "    <tr style=\"text-align: right;\">\n",
       "      <th></th>\n",
       "      <th>adult</th>\n",
       "      <th>belongs_to_collection</th>\n",
       "      <th>budget</th>\n",
       "      <th>genres</th>\n",
       "      <th>homepage</th>\n",
       "      <th>id</th>\n",
       "      <th>imdb_id</th>\n",
       "      <th>original_language</th>\n",
       "      <th>original_title</th>\n",
       "      <th>overview</th>\n",
       "      <th>...</th>\n",
       "      <th>runtime</th>\n",
       "      <th>spoken_languages</th>\n",
       "      <th>status</th>\n",
       "      <th>tagline</th>\n",
       "      <th>title</th>\n",
       "      <th>video</th>\n",
       "      <th>vote_average</th>\n",
       "      <th>vote_count</th>\n",
       "      <th>cast</th>\n",
       "      <th>crew</th>\n",
       "    </tr>\n",
       "  </thead>\n",
       "  <tbody>\n",
       "    <tr>\n",
       "      <th>32585</th>\n",
       "      <td>False</td>\n",
       "      <td>NaN</td>\n",
       "      <td>1230000</td>\n",
       "      <td>[{'id': 18, 'name': 'Drama'}]</td>\n",
       "      <td>NaN</td>\n",
       "      <td>353898</td>\n",
       "      <td>tt3449292</td>\n",
       "      <td>en</td>\n",
       "      <td>Manjhi The Mountain Man</td>\n",
       "      <td>Using only a hammer and a chisel, a man spends...</td>\n",
       "      <td>...</td>\n",
       "      <td>121.0</td>\n",
       "      <td>[{'iso_639_1': 'hi', 'name': 'हिन्दी'}]</td>\n",
       "      <td>Released</td>\n",
       "      <td>NaN</td>\n",
       "      <td>Manjhi The Mountain Man</td>\n",
       "      <td>False</td>\n",
       "      <td>6.8</td>\n",
       "      <td>16.0</td>\n",
       "      <td>[{'cast_id': 0, 'character': '', 'credit_id': ...</td>\n",
       "      <td>[{'credit_id': '55d65b7e92514167130002e7', 'de...</td>\n",
       "    </tr>\n",
       "    <tr>\n",
       "      <th>24124</th>\n",
       "      <td>False</td>\n",
       "      <td>NaN</td>\n",
       "      <td>0</td>\n",
       "      <td>[{'id': 80, 'name': 'Crime'}, {'id': 18, 'name...</td>\n",
       "      <td>NaN</td>\n",
       "      <td>117969</td>\n",
       "      <td>tt0056082</td>\n",
       "      <td>en</td>\n",
       "      <td>House of Women</td>\n",
       "      <td>An innocent, pregnant prison inmate (Shirley K...</td>\n",
       "      <td>...</td>\n",
       "      <td>85.0</td>\n",
       "      <td>[{'iso_639_1': 'en', 'name': 'English'}]</td>\n",
       "      <td>Released</td>\n",
       "      <td>What The Streets Don't Teach This Jail Does!</td>\n",
       "      <td>House of Women</td>\n",
       "      <td>False</td>\n",
       "      <td>0.0</td>\n",
       "      <td>0.0</td>\n",
       "      <td>[{'cast_id': 2, 'character': 'Erica Hayden', '...</td>\n",
       "      <td>[{'credit_id': '52fe4bc5c3a36847f821336d', 'de...</td>\n",
       "    </tr>\n",
       "  </tbody>\n",
       "</table>\n",
       "<p>2 rows × 26 columns</p>\n",
       "</div>"
      ],
      "text/plain": [
       "       adult belongs_to_collection   budget  \\\n",
       "32585  False                   NaN  1230000   \n",
       "24124  False                   NaN        0   \n",
       "\n",
       "                                                  genres homepage      id  \\\n",
       "32585                      [{'id': 18, 'name': 'Drama'}]      NaN  353898   \n",
       "24124  [{'id': 80, 'name': 'Crime'}, {'id': 18, 'name...      NaN  117969   \n",
       "\n",
       "         imdb_id original_language           original_title  \\\n",
       "32585  tt3449292                en  Manjhi The Mountain Man   \n",
       "24124  tt0056082                en           House of Women   \n",
       "\n",
       "                                                overview  ... runtime  \\\n",
       "32585  Using only a hammer and a chisel, a man spends...  ...   121.0   \n",
       "24124  An innocent, pregnant prison inmate (Shirley K...  ...    85.0   \n",
       "\n",
       "                               spoken_languages    status  \\\n",
       "32585   [{'iso_639_1': 'hi', 'name': 'हिन्दी'}]  Released   \n",
       "24124  [{'iso_639_1': 'en', 'name': 'English'}]  Released   \n",
       "\n",
       "                                            tagline                    title  \\\n",
       "32585                                           NaN  Manjhi The Mountain Man   \n",
       "24124  What The Streets Don't Teach This Jail Does!           House of Women   \n",
       "\n",
       "       video  vote_average vote_count  \\\n",
       "32585  False           6.8       16.0   \n",
       "24124  False           0.0        0.0   \n",
       "\n",
       "                                                    cast  \\\n",
       "32585  [{'cast_id': 0, 'character': '', 'credit_id': ...   \n",
       "24124  [{'cast_id': 2, 'character': 'Erica Hayden', '...   \n",
       "\n",
       "                                                    crew  \n",
       "32585  [{'credit_id': '55d65b7e92514167130002e7', 'de...  \n",
       "24124  [{'credit_id': '52fe4bc5c3a36847f821336d', 'de...  \n",
       "\n",
       "[2 rows x 26 columns]"
      ]
     },
     "execution_count": 14,
     "metadata": {},
     "output_type": "execute_result"
    }
   ],
   "source": [
    "data_set.sample(2)"
   ]
  },
  {
   "cell_type": "code",
   "execution_count": 15,
   "id": "3732b364",
   "metadata": {},
   "outputs": [
    {
     "data": {
      "text/plain": [
       "Index(['adult', 'belongs_to_collection', 'budget', 'genres', 'homepage', 'id',\n",
       "       'imdb_id', 'original_language', 'original_title', 'overview',\n",
       "       'popularity', 'poster_path', 'production_companies',\n",
       "       'production_countries', 'release_date', 'revenue', 'runtime',\n",
       "       'spoken_languages', 'status', 'tagline', 'title', 'video',\n",
       "       'vote_average', 'vote_count', 'cast', 'crew'],\n",
       "      dtype='object')"
      ]
     },
     "execution_count": 15,
     "metadata": {},
     "output_type": "execute_result"
    }
   ],
   "source": [
    "data_set.columns"
   ]
  },
  {
   "cell_type": "code",
   "execution_count": 16,
   "id": "75431aef",
   "metadata": {},
   "outputs": [
    {
     "data": {
      "text/plain": [
       "adult                        2\n",
       "belongs_to_collection     1695\n",
       "budget                    1223\n",
       "genres                    4066\n",
       "homepage                  7670\n",
       "id                       45432\n",
       "imdb_id                  45415\n",
       "original_language           89\n",
       "original_title           43370\n",
       "overview                 44305\n",
       "popularity               44174\n",
       "poster_path              45020\n",
       "production_companies     22707\n",
       "production_countries      2390\n",
       "release_date             17333\n",
       "revenue                   6863\n",
       "runtime                    353\n",
       "spoken_languages          1931\n",
       "status                       6\n",
       "tagline                  20283\n",
       "title                    42276\n",
       "video                        2\n",
       "vote_average                92\n",
       "vote_count                1820\n",
       "cast                     43019\n",
       "crew                     44669\n",
       "dtype: int64"
      ]
     },
     "execution_count": 16,
     "metadata": {},
     "output_type": "execute_result"
    }
   ],
   "source": [
    "data_set.nunique()"
   ]
  },
  {
   "cell_type": "code",
   "execution_count": 17,
   "id": "d4b5b2bc",
   "metadata": {},
   "outputs": [
    {
     "name": "stdout",
     "output_type": "stream",
     "text": [
      "105709\n"
     ]
    },
    {
     "data": {
      "text/plain": [
       "belongs_to_collection    90.118143\n",
       "homepage                 82.889016\n",
       "tagline                  55.116606\n",
       "overview                  2.094954\n",
       "poster_path               0.847644\n",
       "runtime                   0.570952\n",
       "release_date              0.191049\n",
       "status                    0.184461\n",
       "imdb_id                   0.037331\n",
       "original_language         0.024156\n",
       "spoken_languages          0.006588\n",
       "revenue                   0.006588\n",
       "production_countries      0.006588\n",
       "production_companies      0.006588\n",
       "title                     0.006588\n",
       "video                     0.006588\n",
       "vote_average              0.006588\n",
       "vote_count                0.006588\n",
       "popularity                0.006588\n",
       "cast                      0.000000\n",
       "adult                     0.000000\n",
       "original_title            0.000000\n",
       "id                        0.000000\n",
       "genres                    0.000000\n",
       "budget                    0.000000\n",
       "crew                      0.000000\n",
       "dtype: float64"
      ]
     },
     "execution_count": 17,
     "metadata": {},
     "output_type": "execute_result"
    }
   ],
   "source": [
    "# lets check the null values before doing EDA \n",
    "print(data_set.isnull().sum().sum())\n",
    "((data_set.isnull().sum()/data_set.isnull().count())*100).sort_values(ascending=False)"
   ]
  },
  {
   "cell_type": "code",
   "execution_count": 100,
   "id": "f44eec2f",
   "metadata": {},
   "outputs": [],
   "source": [
    "#There are missing values in column director,cast,country and date_added.\n",
    "#We can't randomly fill the missing values in columns of director and cast, so we can drop them.\n",
    "#For minimal number of missing values in country and date_added,rating, we can fill them using mode(most common value) and mean."
   ]
  },
  {
   "cell_type": "code",
   "execution_count": 101,
   "id": "43e8915b",
   "metadata": {},
   "outputs": [
    {
     "data": {
      "text/plain": [
       "76"
      ]
     },
     "execution_count": 101,
     "metadata": {},
     "output_type": "execute_result"
    }
   ],
   "source": [
    "data_set.duplicated().sum()"
   ]
  },
  {
   "cell_type": "code",
   "execution_count": null,
   "id": "529d8ae2",
   "metadata": {},
   "outputs": [],
   "source": []
  },
  {
   "cell_type": "markdown",
   "id": "0c1b4648",
   "metadata": {},
   "source": [
    "## univariate analysis and bavariate analysis -- explore each columns"
   ]
  },
  {
   "cell_type": "code",
   "execution_count": 17,
   "id": "6a7b1dcb",
   "metadata": {},
   "outputs": [
    {
     "data": {
      "text/plain": [
       "<AxesSubplot:xlabel='vote_average', ylabel='count'>"
      ]
     },
     "execution_count": 17,
     "metadata": {},
     "output_type": "execute_result"
    },
    {
     "data": {
      "image/png": "[encoded data removed]",
      "text/plain": [
       "<Figure size 864x720 with 1 Axes>"
      ]
     },
     "metadata": {
      "needs_background": "light"
     },
     "output_type": "display_data"
    }
   ],
   "source": [
    "#MOVIES vote\n",
    "plt.figure(figsize=(12,10))\n",
    "sns.set(style=\"darkgrid\")\n",
    "sns.countplot(x=\"vote_average\", data= data_set, palette=\"Set2\", order=data_set['vote_average'].value_counts().index[1:15])\n"
   ]
  },
  {
   "cell_type": "markdown",
   "id": "6ad7f00e",
   "metadata": {},
   "source": [
    "#### most of the movie voting avg is 6 and 5 "
   ]
  },
  {
   "cell_type": "code",
   "execution_count": 59,
   "id": "4c5a4f8c",
   "metadata": {},
   "outputs": [
    {
     "data": {
      "text/plain": [
       "<AxesSubplot:xlabel='original_language', ylabel='count'>"
      ]
     },
     "execution_count": 59,
     "metadata": {},
     "output_type": "execute_result"
    },
    {
     "data": {
      "image/png": "[encoded data removed]",
      "text/plain": [
       "<Figure size 864x720 with 1 Axes>"
      ]
     },
     "metadata": {},
     "output_type": "display_data"
    }
   ],
   "source": [
    "plt.figure(figsize=(12,10))\n",
    "sns.set(style=\"darkgrid\")\n",
    "sns.countplot(x=\"original_language\", data= data_set, palette=\"Set2\", order=data_set['original_language'].value_counts().index[0:10])"
   ]
  },
  {
   "cell_type": "markdown",
   "id": "aff43117",
   "metadata": {},
   "source": [
    "#### most use lanugage is english . more than 3000 movies original_language is english "
   ]
  },
  {
   "cell_type": "code",
   "execution_count": 29,
   "id": "21816d7f",
   "metadata": {},
   "outputs": [
    {
     "data": {
      "image/png": "[encoded data removed]",
      "text/plain": [
       "<Figure size 1080x720 with 3 Axes>"
      ]
     },
     "metadata": {},
     "output_type": "display_data"
    }
   ],
   "source": [
    "fig, axes = plt.subplots(3,1, figsize=(15,10), sharey=True)\n",
    "sns.countplot(data_set['video'],ax=axes[0])\n",
    "sns.countplot(data_set['status'],ax=axes[1])\n",
    "sns.countplot(data_set['adult'],ax=axes[2])\n",
    "plt.show()"
   ]
  },
  {
   "cell_type": "code",
   "execution_count": null,
   "id": "3bca975c",
   "metadata": {},
   "outputs": [],
   "source": [
    "plt.figure(figsize=(12,10))\n",
    "sns.set(style=\"darkgrid\")\n",
    "sns.countplot(y=release_data, data=data_set, palette=\"cool\",hue=data_set['video'])"
   ]
  },
  {
   "cell_type": "code",
   "execution_count": 44,
   "id": "a4f63a75",
   "metadata": {},
   "outputs": [],
   "source": [
    "def convert(text):\n",
    "    L = []\n",
    "    for i in eval(text):\n",
    "        L.append(i['name']) \n",
    "    return L "
   ]
  },
  {
   "cell_type": "code",
   "execution_count": 45,
   "id": "89d405f4",
   "metadata": {},
   "outputs": [],
   "source": [
    "data_set['genres'] = data_set['genres'].apply(convert)"
   ]
  },
  {
   "cell_type": "code",
   "execution_count": 46,
   "id": "255de8a1",
   "metadata": {},
   "outputs": [
    {
     "data": {
      "text/plain": [
       "0         [Animation, Comedy, Family]\n",
       "1        [Adventure, Fantasy, Family]\n",
       "2                   [Romance, Comedy]\n",
       "3            [Comedy, Drama, Romance]\n",
       "4                            [Comedy]\n",
       "                     ...             \n",
       "45533                 [Drama, Family]\n",
       "45534                         [Drama]\n",
       "45535       [Action, Drama, Thriller]\n",
       "45536                              []\n",
       "45537                              []\n",
       "Name: genres, Length: 45538, dtype: object"
      ]
     },
     "execution_count": 46,
     "metadata": {},
     "output_type": "execute_result"
    }
   ],
   "source": [
    "data_set['genres']"
   ]
  },
  {
   "cell_type": "code",
   "execution_count": 58,
   "id": "1728d277",
   "metadata": {},
   "outputs": [
    {
     "data": {
      "image/png": "[encoded data removed]",
      "text/plain": [
       "<Figure size 2160x1080 with 1 Axes>"
      ]
     },
     "metadata": {},
     "output_type": "display_data"
    }
   ],
   "source": [
    "# GENRES BY Revenue\n",
    "import squarify\n",
    "plt.figure(figsize=(30,15))\n",
    "squarify.plot(value= data_set['genres'],label= data_set['genres'], sizes=data_set['revenue'].value_counts(sort=True).index[1:7], alpha=0.8)\n",
    "plt.show()"
   ]
  },
  {
   "cell_type": "markdown",
   "id": "9a4d9aae",
   "metadata": {},
   "source": [
    "#### based on revenue [Adventure, Fantasy, Family] and [Romance, Comedy] ,[Adventure, Fantasy, Family].this three genre are higest on revenue"
   ]
  },
  {
   "cell_type": "code",
   "execution_count": 18,
   "id": "6cb9a796",
   "metadata": {},
   "outputs": [],
   "source": [
    "data_set['id']=data_set['id'].apply(pd.Series)"
   ]
  },
  {
   "cell_type": "code",
   "execution_count": 27,
   "id": "fc8f92f9",
   "metadata": {
    "scrolled": true
   },
   "outputs": [
    {
     "data": {
      "text/plain": [
       "Index(['adult', 'belongs_to_collection', 'budget', 'genres', 'homepage', 'id',\n",
       "       'imdb_id', 'original_language', 'original_title', 'overview',\n",
       "       'popularity', 'poster_path', 'production_companies',\n",
       "       'production_countries', 'release_date', 'revenue', 'runtime',\n",
       "       'spoken_languages', 'status', 'tagline', 'title', 'video',\n",
       "       'vote_average', 'vote_count', 'cast', 'crew'],\n",
       "      dtype='object')"
      ]
     },
     "execution_count": 27,
     "metadata": {},
     "output_type": "execute_result"
    }
   ],
   "source": [
    "data_set.columns"
   ]
  },
  {
   "cell_type": "code",
   "execution_count": 24,
   "id": "7df8073a",
   "metadata": {},
   "outputs": [],
   "source": [
    "# Title of The Movie Having Runtime Greater Than or equal to 180 Minutes\n",
    "a=data_set[data_set['runtime']>=180]['title']"
   ]
  },
  {
   "cell_type": "code",
   "execution_count": 70,
   "id": "8e3b0540",
   "metadata": {},
   "outputs": [
    {
     "data": {
      "text/plain": [
       "13                                                  Nixon\n",
       "358      The Wonderful, Horrible Life of Leni Riefenstahl\n",
       "378                                            Wyatt Earp\n",
       "522                                      Schindler's List\n",
       "530                                            Short Cuts\n",
       "                               ...                       \n",
       "45291       Never Tear Us Apart: The Untold Story of INXS\n",
       "45320                                               Muthu\n",
       "45323                                    Sivaji: The Boss\n",
       "45496                           The Prisoner of If Castle\n",
       "45534                                 Century of Birthing\n",
       "Name: title, Length: 596, dtype: object"
      ]
     },
     "execution_count": 70,
     "metadata": {},
     "output_type": "execute_result"
    }
   ],
   "source": [
    "a"
   ]
  },
  {
   "cell_type": "code",
   "execution_count": 63,
   "id": "1c29b4b6",
   "metadata": {},
   "outputs": [
    {
     "data": {
      "image/png": "[encoded data removed]",
      "text/plain": [
       "<Figure size 2160x1440 with 1 Axes>"
      ]
     },
     "metadata": {},
     "output_type": "display_data"
    }
   ],
   "source": [
    "plt.figure(figsize=(30,20))\n",
    "squarify.plot(value= data_set['runtime'],label= a, sizes=a.index[0:10], alpha=0.8)\n",
    "\n",
    "plt.show()"
   ]
  },
  {
   "cell_type": "markdown",
   "id": "661d81d8",
   "metadata": {},
   "source": [
    "#### based on runtime these movies is are on top five-----( Nixon),(Short Cuts),(Schindler's List),(Wyatt Earp),(The Wonderful, Horrible Life of Leni Riefenstahl),"
   ]
  },
  {
   "cell_type": "code",
   "execution_count": 102,
   "id": "e670335b",
   "metadata": {},
   "outputs": [],
   "source": [
    "def fetch_director(text):\n",
    "    L = []\n",
    "    for i in eval(text):\n",
    "        if i['job'] == 'Director':\n",
    "            L.append(i['name'])\n",
    "    return L"
   ]
  },
  {
   "cell_type": "code",
   "execution_count": 103,
   "id": "b6cddaab",
   "metadata": {},
   "outputs": [],
   "source": [
    "data_set['crew'] = data_set['crew'].apply(fetch_director)"
   ]
  },
  {
   "cell_type": "code",
   "execution_count": 104,
   "id": "667eaca4",
   "metadata": {},
   "outputs": [],
   "source": [
    "b=data_set[\"crew\"].value_counts()"
   ]
  },
  {
   "cell_type": "code",
   "execution_count": 106,
   "id": "8101e1fa",
   "metadata": {
    "scrolled": true
   },
   "outputs": [
    {
     "data": {
      "text/plain": [
       "[]                                                           887\n",
       "[John Ford]                                                   63\n",
       "[Michael Curtiz]                                              61\n",
       "[Alfred Hitchcock]                                            52\n",
       "[Werner Herzog]                                               52\n",
       "                                                            ... \n",
       "[Joung Yumi]                                                   1\n",
       "[Melville W. Brown]                                            1\n",
       "[Rob Cowan]                                                    1\n",
       "[Yoshiharu Ashino, Vladimir Zhelezniakov, Aljosha Klimov]      1\n",
       "[Daisy Asquith]                                                1\n",
       "Name: crew, Length: 18854, dtype: int64"
      ]
     },
     "execution_count": 106,
     "metadata": {},
     "output_type": "execute_result"
    }
   ],
   "source": [
    "# you can see that these  director make max no of movie \n",
    "#[John Ford],[Michael Curtiz] ,[Alfred Hitchcock],[Werner Herzog]\n",
    "b"
   ]
  },
  {
   "cell_type": "code",
   "execution_count": 105,
   "id": "54834981",
   "metadata": {},
   "outputs": [],
   "source": [
    "# change col in to date time \n",
    "data_set['release_date'] = pd.to_datetime(data_set['release_date'],errors='coerce')"
   ]
  },
  {
   "cell_type": "code",
   "execution_count": 107,
   "id": "f3c4b7ac",
   "metadata": {},
   "outputs": [],
   "source": [
    "data_set['year'] = data_set['release_date'].dt.year"
   ]
  },
  {
   "cell_type": "code",
   "execution_count": 145,
   "id": "c10fc4dd",
   "metadata": {},
   "outputs": [],
   "source": [
    "# Year with The Highest Average Revenue\n",
    "highest_rev=data_set.groupby('year')['revenue'].sum().sort_values(ascending=False)"
   ]
  },
  {
   "cell_type": "code",
   "execution_count": 133,
   "id": "77e180bc",
   "metadata": {},
   "outputs": [
    {
     "data": {
      "text/plain": [
       "year\n",
       "2016.0    3.049788e+10\n",
       "2015.0    2.881936e+10\n",
       "2013.0    2.666884e+10\n",
       "2014.0    2.644612e+10\n",
       "2012.0    2.605875e+10\n",
       "              ...     \n",
       "1913.0    0.000000e+00\n",
       "1914.0    0.000000e+00\n",
       "1917.0    0.000000e+00\n",
       "1919.0    0.000000e+00\n",
       "2020.0    0.000000e+00\n",
       "Name: revenue, Length: 135, dtype: float64"
      ]
     },
     "execution_count": 133,
     "metadata": {},
     "output_type": "execute_result"
    }
   ],
   "source": [
    "highest_rev"
   ]
  },
  {
   "cell_type": "code",
   "execution_count": 148,
   "id": "09baa175",
   "metadata": {},
   "outputs": [
    {
     "data": {
      "text/plain": [
       "<AxesSubplot:xlabel='year', ylabel='revenue'>"
      ]
     },
     "execution_count": 148,
     "metadata": {},
     "output_type": "execute_result"
    },
    {
     "data": {
      "image/png": "[encoded data removed]",
      "text/plain": [
       "<Figure size 864x720 with 1 Axes>"
      ]
     },
     "metadata": {},
     "output_type": "display_data"
    }
   ],
   "source": [
    "plt.figure(figsize=(12,10))\n",
    "sns.histplot(x=data_set['year'],y=data_set['revenue'])\n"
   ]
  },
  {
   "cell_type": "markdown",
   "id": "54592cef",
   "metadata": {},
   "source": [
    "#### 2016 has the higest year in terms of revenue "
   ]
  },
  {
   "cell_type": "markdown",
   "id": "db41e221",
   "metadata": {},
   "source": [
    "### top 10 moivies based on popularity"
   ]
  },
  {
   "cell_type": "code",
   "execution_count": 37,
   "id": "9f5307a7",
   "metadata": {},
   "outputs": [],
   "source": [
    "data_set['popularity'] = pd.to_numeric(data_set['popularity'],errors = 'coerce')"
   ]
  },
  {
   "cell_type": "code",
   "execution_count": 38,
   "id": "3f2cf848",
   "metadata": {
    "scrolled": true
   },
   "outputs": [
    {
     "data": {
      "text/html": [
       "<div>\n",
       "<style scoped>\n",
       "    .dataframe tbody tr th:only-of-type {\n",
       "        vertical-align: middle;\n",
       "    }\n",
       "\n",
       "    .dataframe tbody tr th {\n",
       "        vertical-align: top;\n",
       "    }\n",
       "\n",
       "    .dataframe thead th {\n",
       "        text-align: right;\n",
       "    }\n",
       "</style>\n",
       "<table border=\"1\" class=\"dataframe\">\n",
       "  <thead>\n",
       "    <tr style=\"text-align: right;\">\n",
       "      <th></th>\n",
       "      <th>popularity</th>\n",
       "    </tr>\n",
       "    <tr>\n",
       "      <th>title</th>\n",
       "      <th></th>\n",
       "    </tr>\n",
       "  </thead>\n",
       "  <tbody>\n",
       "    <tr>\n",
       "      <th>Minions</th>\n",
       "      <td>547.488298</td>\n",
       "    </tr>\n",
       "    <tr>\n",
       "      <th>Wonder Woman</th>\n",
       "      <td>294.337037</td>\n",
       "    </tr>\n",
       "    <tr>\n",
       "      <th>Beauty and the Beast</th>\n",
       "      <td>287.253654</td>\n",
       "    </tr>\n",
       "    <tr>\n",
       "      <th>Baby Driver</th>\n",
       "      <td>228.032744</td>\n",
       "    </tr>\n",
       "    <tr>\n",
       "      <th>Big Hero 6</th>\n",
       "      <td>213.849907</td>\n",
       "    </tr>\n",
       "    <tr>\n",
       "      <th>Deadpool</th>\n",
       "      <td>187.860492</td>\n",
       "    </tr>\n",
       "    <tr>\n",
       "      <th>Guardians of the Galaxy Vol. 2</th>\n",
       "      <td>185.330992</td>\n",
       "    </tr>\n",
       "    <tr>\n",
       "      <th>Avatar</th>\n",
       "      <td>185.070892</td>\n",
       "    </tr>\n",
       "    <tr>\n",
       "      <th>John Wick</th>\n",
       "      <td>183.870374</td>\n",
       "    </tr>\n",
       "    <tr>\n",
       "      <th>Gone Girl</th>\n",
       "      <td>154.801009</td>\n",
       "    </tr>\n",
       "  </tbody>\n",
       "</table>\n",
       "</div>"
      ],
      "text/plain": [
       "                                popularity\n",
       "title                                     \n",
       "Minions                         547.488298\n",
       "Wonder Woman                    294.337037\n",
       "Beauty and the Beast            287.253654\n",
       "Baby Driver                     228.032744\n",
       "Big Hero 6                      213.849907\n",
       "Deadpool                        187.860492\n",
       "Guardians of the Galaxy Vol. 2  185.330992\n",
       "Avatar                          185.070892\n",
       "John Wick                       183.870374\n",
       "Gone Girl                       154.801009"
      ]
     },
     "execution_count": 38,
     "metadata": {},
     "output_type": "execute_result"
    }
   ],
   "source": [
    "top_10 = data_set.nlargest(10,'popularity')[['title','popularity']].set_index('title')\n",
    "top_10"
   ]
  },
  {
   "cell_type": "code",
   "execution_count": 43,
   "id": "253fbb4e",
   "metadata": {},
   "outputs": [
    {
     "data": {
      "image/png": "[encoded data removed]",
      "text/plain": [
       "<Figure size 432x288 with 1 Axes>"
      ]
     },
     "metadata": {},
     "output_type": "display_data"
    }
   ],
   "source": [
    "sns.set_style(\"dark\")\n",
    "sns.barplot(y= top_10.index,x='popularity',data=top_10, palette = 'magma')\n",
    "plt.show()"
   ]
  },
  {
   "cell_type": "markdown",
   "id": "88f9eb8f",
   "metadata": {},
   "source": [
    "### top 10 movies baed on runtime"
   ]
  },
  {
   "cell_type": "code",
   "execution_count": 49,
   "id": "07e1ef54",
   "metadata": {},
   "outputs": [
    {
     "data": {
      "text/html": [
       "<div>\n",
       "<style scoped>\n",
       "    .dataframe tbody tr th:only-of-type {\n",
       "        vertical-align: middle;\n",
       "    }\n",
       "\n",
       "    .dataframe tbody tr th {\n",
       "        vertical-align: top;\n",
       "    }\n",
       "\n",
       "    .dataframe thead th {\n",
       "        text-align: right;\n",
       "    }\n",
       "</style>\n",
       "<table border=\"1\" class=\"dataframe\">\n",
       "  <thead>\n",
       "    <tr style=\"text-align: right;\">\n",
       "      <th></th>\n",
       "      <th>runtime</th>\n",
       "    </tr>\n",
       "    <tr>\n",
       "      <th>title</th>\n",
       "      <th></th>\n",
       "    </tr>\n",
       "  </thead>\n",
       "  <tbody>\n",
       "    <tr>\n",
       "      <th>Centennial</th>\n",
       "      <td>1256.0</td>\n",
       "    </tr>\n",
       "    <tr>\n",
       "      <th>Jazz</th>\n",
       "      <td>1140.0</td>\n",
       "    </tr>\n",
       "    <tr>\n",
       "      <th>Baseball</th>\n",
       "      <td>1140.0</td>\n",
       "    </tr>\n",
       "    <tr>\n",
       "      <th>Berlin Alexanderplatz</th>\n",
       "      <td>931.0</td>\n",
       "    </tr>\n",
       "    <tr>\n",
       "      <th>Heimat: A Chronicle of Germany</th>\n",
       "      <td>925.0</td>\n",
       "    </tr>\n",
       "    <tr>\n",
       "      <th>The Story of Film: An Odyssey</th>\n",
       "      <td>900.0</td>\n",
       "    </tr>\n",
       "    <tr>\n",
       "      <th>Taken</th>\n",
       "      <td>877.0</td>\n",
       "    </tr>\n",
       "    <tr>\n",
       "      <th>The War</th>\n",
       "      <td>874.0</td>\n",
       "    </tr>\n",
       "    <tr>\n",
       "      <th>The Roosevelts: An Intimate History</th>\n",
       "      <td>840.0</td>\n",
       "    </tr>\n",
       "    <tr>\n",
       "      <th>Seventeen Moments in Spring</th>\n",
       "      <td>840.0</td>\n",
       "    </tr>\n",
       "  </tbody>\n",
       "</table>\n",
       "</div>"
      ],
      "text/plain": [
       "                                     runtime\n",
       "title                                       \n",
       "Centennial                            1256.0\n",
       "Jazz                                  1140.0\n",
       "Baseball                              1140.0\n",
       "Berlin Alexanderplatz                  931.0\n",
       "Heimat: A Chronicle of Germany         925.0\n",
       "The Story of Film: An Odyssey          900.0\n",
       "Taken                                  877.0\n",
       "The War                                874.0\n",
       "The Roosevelts: An Intimate History    840.0\n",
       "Seventeen Moments in Spring            840.0"
      ]
     },
     "execution_count": 49,
     "metadata": {},
     "output_type": "execute_result"
    }
   ],
   "source": [
    "top_10 = data_set.nlargest(10,'runtime')[['title','runtime']].set_index('title')\n",
    "top_10"
   ]
  },
  {
   "cell_type": "code",
   "execution_count": 52,
   "id": "60e5a046",
   "metadata": {},
   "outputs": [
    {
     "data": {
      "image/png": "[encoded data removed]",
      "text/plain": [
       "<Figure size 432x288 with 1 Axes>"
      ]
     },
     "metadata": {},
     "output_type": "display_data"
    }
   ],
   "source": [
    "sns.set_style(\"dark\")\n",
    "plt.title('Chart showing top 10 runtime movies')\n",
    "sns.barplot(x='runtime',y=top_10.index,data=top_10,palette = 'magma')\n",
    "plt.show()"
   ]
  },
  {
   "cell_type": "markdown",
   "id": "a2d4be0a",
   "metadata": {},
   "source": [
    "### top 10 higest budget movies "
   ]
  },
  {
   "cell_type": "code",
   "execution_count": 54,
   "id": "66015160",
   "metadata": {},
   "outputs": [],
   "source": [
    "data_set['budget'] = pd.to_numeric(data_set['budget'],errors = 'coerce')"
   ]
  },
  {
   "cell_type": "code",
   "execution_count": 55,
   "id": "f9a8e4bc",
   "metadata": {},
   "outputs": [
    {
     "data": {
      "text/html": [
       "<div>\n",
       "<style scoped>\n",
       "    .dataframe tbody tr th:only-of-type {\n",
       "        vertical-align: middle;\n",
       "    }\n",
       "\n",
       "    .dataframe tbody tr th {\n",
       "        vertical-align: top;\n",
       "    }\n",
       "\n",
       "    .dataframe thead th {\n",
       "        text-align: right;\n",
       "    }\n",
       "</style>\n",
       "<table border=\"1\" class=\"dataframe\">\n",
       "  <thead>\n",
       "    <tr style=\"text-align: right;\">\n",
       "      <th></th>\n",
       "      <th>budget</th>\n",
       "    </tr>\n",
       "    <tr>\n",
       "      <th>title</th>\n",
       "      <th></th>\n",
       "    </tr>\n",
       "  </thead>\n",
       "  <tbody>\n",
       "    <tr>\n",
       "      <th>Pirates of the Caribbean: On Stranger Tides</th>\n",
       "      <td>380000000</td>\n",
       "    </tr>\n",
       "    <tr>\n",
       "      <th>Pirates of the Caribbean: At World's End</th>\n",
       "      <td>300000000</td>\n",
       "    </tr>\n",
       "    <tr>\n",
       "      <th>Avengers: Age of Ultron</th>\n",
       "      <td>280000000</td>\n",
       "    </tr>\n",
       "    <tr>\n",
       "      <th>Superman Returns</th>\n",
       "      <td>270000000</td>\n",
       "    </tr>\n",
       "    <tr>\n",
       "      <th>Tangled</th>\n",
       "      <td>260000000</td>\n",
       "    </tr>\n",
       "    <tr>\n",
       "      <th>John Carter</th>\n",
       "      <td>260000000</td>\n",
       "    </tr>\n",
       "    <tr>\n",
       "      <th>Transformers: The Last Knight</th>\n",
       "      <td>260000000</td>\n",
       "    </tr>\n",
       "    <tr>\n",
       "      <th>Spider-Man 3</th>\n",
       "      <td>258000000</td>\n",
       "    </tr>\n",
       "    <tr>\n",
       "      <th>The Lone Ranger</th>\n",
       "      <td>255000000</td>\n",
       "    </tr>\n",
       "    <tr>\n",
       "      <th>Harry Potter and the Half-Blood Prince</th>\n",
       "      <td>250000000</td>\n",
       "    </tr>\n",
       "  </tbody>\n",
       "</table>\n",
       "</div>"
      ],
      "text/plain": [
       "                                                budget\n",
       "title                                                 \n",
       "Pirates of the Caribbean: On Stranger Tides  380000000\n",
       "Pirates of the Caribbean: At World's End     300000000\n",
       "Avengers: Age of Ultron                      280000000\n",
       "Superman Returns                             270000000\n",
       "Tangled                                      260000000\n",
       "John Carter                                  260000000\n",
       "Transformers: The Last Knight                260000000\n",
       "Spider-Man 3                                 258000000\n",
       "The Lone Ranger                              255000000\n",
       "Harry Potter and the Half-Blood Prince       250000000"
      ]
     },
     "execution_count": 55,
     "metadata": {},
     "output_type": "execute_result"
    }
   ],
   "source": [
    "top_10 = data_set.nlargest(10,'budget')[['title','budget']].set_index('title')\n",
    "top_10"
   ]
  },
  {
   "cell_type": "code",
   "execution_count": 56,
   "id": "8b5af1de",
   "metadata": {},
   "outputs": [
    {
     "data": {
      "image/png": "[encoded data removed]",
      "text/plain": [
       "<Figure size 432x288 with 1 Axes>"
      ]
     },
     "metadata": {},
     "output_type": "display_data"
    }
   ],
   "source": [
    "sns.set_style(\"dark\")\n",
    "plt.title('Chart showing top 10 budget movies')\n",
    "sns.barplot(x='budget',y=top_10.index,data=top_10,palette = 'magma')\n",
    "plt.show()"
   ]
  },
  {
   "cell_type": "markdown",
   "id": "1da8d4ca",
   "metadata": {},
   "source": [
    "### top 10 higest earn movies "
   ]
  },
  {
   "cell_type": "code",
   "execution_count": 57,
   "id": "7a13577f",
   "metadata": {},
   "outputs": [
    {
     "data": {
      "text/html": [
       "<div>\n",
       "<style scoped>\n",
       "    .dataframe tbody tr th:only-of-type {\n",
       "        vertical-align: middle;\n",
       "    }\n",
       "\n",
       "    .dataframe tbody tr th {\n",
       "        vertical-align: top;\n",
       "    }\n",
       "\n",
       "    .dataframe thead th {\n",
       "        text-align: right;\n",
       "    }\n",
       "</style>\n",
       "<table border=\"1\" class=\"dataframe\">\n",
       "  <thead>\n",
       "    <tr style=\"text-align: right;\">\n",
       "      <th></th>\n",
       "      <th>revenue</th>\n",
       "    </tr>\n",
       "    <tr>\n",
       "      <th>title</th>\n",
       "      <th></th>\n",
       "    </tr>\n",
       "  </thead>\n",
       "  <tbody>\n",
       "    <tr>\n",
       "      <th>Avatar</th>\n",
       "      <td>2.787965e+09</td>\n",
       "    </tr>\n",
       "    <tr>\n",
       "      <th>Star Wars: The Force Awakens</th>\n",
       "      <td>2.068224e+09</td>\n",
       "    </tr>\n",
       "    <tr>\n",
       "      <th>Titanic</th>\n",
       "      <td>1.845034e+09</td>\n",
       "    </tr>\n",
       "    <tr>\n",
       "      <th>The Avengers</th>\n",
       "      <td>1.519558e+09</td>\n",
       "    </tr>\n",
       "    <tr>\n",
       "      <th>Jurassic World</th>\n",
       "      <td>1.513529e+09</td>\n",
       "    </tr>\n",
       "    <tr>\n",
       "      <th>Furious 7</th>\n",
       "      <td>1.506249e+09</td>\n",
       "    </tr>\n",
       "    <tr>\n",
       "      <th>Avengers: Age of Ultron</th>\n",
       "      <td>1.405404e+09</td>\n",
       "    </tr>\n",
       "    <tr>\n",
       "      <th>Harry Potter and the Deathly Hallows: Part 2</th>\n",
       "      <td>1.342000e+09</td>\n",
       "    </tr>\n",
       "    <tr>\n",
       "      <th>Frozen</th>\n",
       "      <td>1.274219e+09</td>\n",
       "    </tr>\n",
       "    <tr>\n",
       "      <th>Beauty and the Beast</th>\n",
       "      <td>1.262886e+09</td>\n",
       "    </tr>\n",
       "  </tbody>\n",
       "</table>\n",
       "</div>"
      ],
      "text/plain": [
       "                                                   revenue\n",
       "title                                                     \n",
       "Avatar                                        2.787965e+09\n",
       "Star Wars: The Force Awakens                  2.068224e+09\n",
       "Titanic                                       1.845034e+09\n",
       "The Avengers                                  1.519558e+09\n",
       "Jurassic World                                1.513529e+09\n",
       "Furious 7                                     1.506249e+09\n",
       "Avengers: Age of Ultron                       1.405404e+09\n",
       "Harry Potter and the Deathly Hallows: Part 2  1.342000e+09\n",
       "Frozen                                        1.274219e+09\n",
       "Beauty and the Beast                          1.262886e+09"
      ]
     },
     "execution_count": 57,
     "metadata": {},
     "output_type": "execute_result"
    }
   ],
   "source": [
    "top_10 = data_set.nlargest(10,'revenue')[['title','revenue']].set_index('title')\n",
    "top_10"
   ]
  },
  {
   "cell_type": "code",
   "execution_count": 58,
   "id": "a5edbfac",
   "metadata": {},
   "outputs": [
    {
     "data": {
      "image/png": "[encoded data removed]",
      "text/plain": [
       "<Figure size 432x288 with 1 Axes>"
      ]
     },
     "metadata": {},
     "output_type": "display_data"
    }
   ],
   "source": [
    "sns.set_style(\"dark\")\n",
    "plt.title('Chart showing top 10 revenue movies')\n",
    "sns.barplot(x='revenue',y=top_10.index,data=top_10,palette = 'magma')\n",
    "plt.show()"
   ]
  },
  {
   "cell_type": "code",
   "execution_count": 63,
   "id": "cc222c81",
   "metadata": {},
   "outputs": [
    {
     "data": {
      "text/html": [
       "<div>\n",
       "<style scoped>\n",
       "    .dataframe tbody tr th:only-of-type {\n",
       "        vertical-align: middle;\n",
       "    }\n",
       "\n",
       "    .dataframe tbody tr th {\n",
       "        vertical-align: top;\n",
       "    }\n",
       "\n",
       "    .dataframe thead th {\n",
       "        text-align: right;\n",
       "    }\n",
       "</style>\n",
       "<table border=\"1\" class=\"dataframe\">\n",
       "  <thead>\n",
       "    <tr style=\"text-align: right;\">\n",
       "      <th></th>\n",
       "      <th>production_companies</th>\n",
       "    </tr>\n",
       "    <tr>\n",
       "      <th>title</th>\n",
       "      <th></th>\n",
       "    </tr>\n",
       "  </thead>\n",
       "  <tbody>\n",
       "    <tr>\n",
       "      <th>Avatar</th>\n",
       "      <td>[{'name': 'Ingenious Film Partners', 'id': 289...</td>\n",
       "    </tr>\n",
       "    <tr>\n",
       "      <th>Star Wars: The Force Awakens</th>\n",
       "      <td>[{'name': 'Lucasfilm', 'id': 1}, {'name': 'Tru...</td>\n",
       "    </tr>\n",
       "    <tr>\n",
       "      <th>Titanic</th>\n",
       "      <td>[{'name': 'Paramount Pictures', 'id': 4}, {'na...</td>\n",
       "    </tr>\n",
       "    <tr>\n",
       "      <th>The Avengers</th>\n",
       "      <td>[{'name': 'Paramount Pictures', 'id': 4}, {'na...</td>\n",
       "    </tr>\n",
       "    <tr>\n",
       "      <th>Jurassic World</th>\n",
       "      <td>[{'name': 'Universal Studios', 'id': 13}, {'na...</td>\n",
       "    </tr>\n",
       "    <tr>\n",
       "      <th>Furious 7</th>\n",
       "      <td>[{'name': 'Universal Pictures', 'id': 33}, {'n...</td>\n",
       "    </tr>\n",
       "    <tr>\n",
       "      <th>Avengers: Age of Ultron</th>\n",
       "      <td>[{'name': 'Marvel Studios', 'id': 420}, {'name...</td>\n",
       "    </tr>\n",
       "    <tr>\n",
       "      <th>Harry Potter and the Deathly Hallows: Part 2</th>\n",
       "      <td>[{'name': 'Warner Bros.', 'id': 6194}, {'name'...</td>\n",
       "    </tr>\n",
       "    <tr>\n",
       "      <th>Frozen</th>\n",
       "      <td>[{'name': 'Walt Disney Pictures', 'id': 2}, {'...</td>\n",
       "    </tr>\n",
       "    <tr>\n",
       "      <th>Beauty and the Beast</th>\n",
       "      <td>[{'name': 'Walt Disney Pictures', 'id': 2}, {'...</td>\n",
       "    </tr>\n",
       "  </tbody>\n",
       "</table>\n",
       "</div>"
      ],
      "text/plain": [
       "                                                                           production_companies\n",
       "title                                                                                          \n",
       "Avatar                                        [{'name': 'Ingenious Film Partners', 'id': 289...\n",
       "Star Wars: The Force Awakens                  [{'name': 'Lucasfilm', 'id': 1}, {'name': 'Tru...\n",
       "Titanic                                       [{'name': 'Paramount Pictures', 'id': 4}, {'na...\n",
       "The Avengers                                  [{'name': 'Paramount Pictures', 'id': 4}, {'na...\n",
       "Jurassic World                                [{'name': 'Universal Studios', 'id': 13}, {'na...\n",
       "Furious 7                                     [{'name': 'Universal Pictures', 'id': 33}, {'n...\n",
       "Avengers: Age of Ultron                       [{'name': 'Marvel Studios', 'id': 420}, {'name...\n",
       "Harry Potter and the Deathly Hallows: Part 2  [{'name': 'Warner Bros.', 'id': 6194}, {'name'...\n",
       "Frozen                                        [{'name': 'Walt Disney Pictures', 'id': 2}, {'...\n",
       "Beauty and the Beast                          [{'name': 'Walt Disney Pictures', 'id': 2}, {'..."
      ]
     },
     "execution_count": 63,
     "metadata": {},
     "output_type": "execute_result"
    }
   ],
   "source": [
    "top_10 = data_set.nlargest(10,'revenue')[['title','production_companies']].set_index('title')\n",
    "top_10"
   ]
  },
  {
   "cell_type": "code",
   "execution_count": 62,
   "id": "06db12be",
   "metadata": {},
   "outputs": [
    {
     "data": {
      "text/plain": [
       "Index(['adult', 'belongs_to_collection', 'budget', 'genres', 'homepage', 'id',\n",
       "       'imdb_id', 'original_language', 'original_title', 'overview',\n",
       "       'popularity', 'poster_path', 'production_companies',\n",
       "       'production_countries', 'release_date', 'revenue', 'runtime',\n",
       "       'spoken_languages', 'status', 'tagline', 'title', 'video',\n",
       "       'vote_average', 'vote_count', 'cast', 'crew'],\n",
       "      dtype='object')"
      ]
     },
     "execution_count": 62,
     "metadata": {},
     "output_type": "execute_result"
    }
   ],
   "source": [
    "data_set.columns"
   ]
  },
  {
   "cell_type": "code",
   "execution_count": 65,
   "id": "14f0e810",
   "metadata": {},
   "outputs": [
    {
     "data": {
      "text/html": [
       "<div>\n",
       "<style scoped>\n",
       "    .dataframe tbody tr th:only-of-type {\n",
       "        vertical-align: middle;\n",
       "    }\n",
       "\n",
       "    .dataframe tbody tr th {\n",
       "        vertical-align: top;\n",
       "    }\n",
       "\n",
       "    .dataframe thead th {\n",
       "        text-align: right;\n",
       "    }\n",
       "</style>\n",
       "<table border=\"1\" class=\"dataframe\">\n",
       "  <thead>\n",
       "    <tr style=\"text-align: right;\">\n",
       "      <th></th>\n",
       "      <th>production_countries</th>\n",
       "    </tr>\n",
       "    <tr>\n",
       "      <th>title</th>\n",
       "      <th></th>\n",
       "    </tr>\n",
       "  </thead>\n",
       "  <tbody>\n",
       "    <tr>\n",
       "      <th>Avatar</th>\n",
       "      <td>[{'iso_3166_1': 'US', 'name': 'United States o...</td>\n",
       "    </tr>\n",
       "    <tr>\n",
       "      <th>Star Wars: The Force Awakens</th>\n",
       "      <td>[{'iso_3166_1': 'US', 'name': 'United States o...</td>\n",
       "    </tr>\n",
       "    <tr>\n",
       "      <th>Titanic</th>\n",
       "      <td>[{'iso_3166_1': 'US', 'name': 'United States o...</td>\n",
       "    </tr>\n",
       "    <tr>\n",
       "      <th>The Avengers</th>\n",
       "      <td>[{'iso_3166_1': 'US', 'name': 'United States o...</td>\n",
       "    </tr>\n",
       "    <tr>\n",
       "      <th>Jurassic World</th>\n",
       "      <td>[{'iso_3166_1': 'US', 'name': 'United States o...</td>\n",
       "    </tr>\n",
       "    <tr>\n",
       "      <th>Furious 7</th>\n",
       "      <td>[{'iso_3166_1': 'JP', 'name': 'Japan'}, {'iso_...</td>\n",
       "    </tr>\n",
       "    <tr>\n",
       "      <th>Avengers: Age of Ultron</th>\n",
       "      <td>[{'iso_3166_1': 'US', 'name': 'United States o...</td>\n",
       "    </tr>\n",
       "    <tr>\n",
       "      <th>Harry Potter and the Deathly Hallows: Part 2</th>\n",
       "      <td>[{'iso_3166_1': 'GB', 'name': 'United Kingdom'...</td>\n",
       "    </tr>\n",
       "    <tr>\n",
       "      <th>Frozen</th>\n",
       "      <td>[{'iso_3166_1': 'US', 'name': 'United States o...</td>\n",
       "    </tr>\n",
       "    <tr>\n",
       "      <th>Beauty and the Beast</th>\n",
       "      <td>[{'iso_3166_1': 'GB', 'name': 'United Kingdom'...</td>\n",
       "    </tr>\n",
       "  </tbody>\n",
       "</table>\n",
       "</div>"
      ],
      "text/plain": [
       "                                                                           production_countries\n",
       "title                                                                                          \n",
       "Avatar                                        [{'iso_3166_1': 'US', 'name': 'United States o...\n",
       "Star Wars: The Force Awakens                  [{'iso_3166_1': 'US', 'name': 'United States o...\n",
       "Titanic                                       [{'iso_3166_1': 'US', 'name': 'United States o...\n",
       "The Avengers                                  [{'iso_3166_1': 'US', 'name': 'United States o...\n",
       "Jurassic World                                [{'iso_3166_1': 'US', 'name': 'United States o...\n",
       "Furious 7                                     [{'iso_3166_1': 'JP', 'name': 'Japan'}, {'iso_...\n",
       "Avengers: Age of Ultron                       [{'iso_3166_1': 'US', 'name': 'United States o...\n",
       "Harry Potter and the Deathly Hallows: Part 2  [{'iso_3166_1': 'GB', 'name': 'United Kingdom'...\n",
       "Frozen                                        [{'iso_3166_1': 'US', 'name': 'United States o...\n",
       "Beauty and the Beast                          [{'iso_3166_1': 'GB', 'name': 'United Kingdom'..."
      ]
     },
     "execution_count": 65,
     "metadata": {},
     "output_type": "execute_result"
    }
   ],
   "source": [
    "top_10 = data_set.nlargest(10,'revenue')[['title','production_countries']].set_index('title')\n",
    "top_10"
   ]
  },
  {
   "cell_type": "code",
   "execution_count": 106,
   "id": "47f1df70",
   "metadata": {},
   "outputs": [],
   "source": [
    "# df1=data_set.rdd.map(lambda x:(x.title,x.production_countries['iso_3166_1'],x.production_countries[\"name\"])).toDF(['country',country_full_name])"
   ]
  },
  {
   "cell_type": "code",
   "execution_count": 105,
   "id": "761a9932",
   "metadata": {},
   "outputs": [],
   "source": [
    "#data_set['country']=data_set['production_countries'].str.extract('(a-z)\\w{0,})',expand=True)"
   ]
  },
  {
   "cell_type": "code",
   "execution_count": 114,
   "id": "85f7f37d",
   "metadata": {},
   "outputs": [],
   "source": [
    "#I=[]\n",
    "#for i in range():\n",
    "#    I.append(data_set[i][\"name\"])"
   ]
  },
  {
   "cell_type": "code",
   "execution_count": null,
   "id": "924fd0a1",
   "metadata": {},
   "outputs": [],
   "source": []
  },
  {
   "cell_type": "code",
   "execution_count": null,
   "id": "0692a248",
   "metadata": {},
   "outputs": [],
   "source": []
  },
  {
   "cell_type": "code",
   "execution_count": null,
   "id": "512e8d6f",
   "metadata": {},
   "outputs": [],
   "source": []
  }
 ],
 "metadata": {
  "kernelspec": {
   "display_name": "Python 3 (ipykernel)",
   "language": "python",
   "name": "python3"
  },
  "language_info": {
   "codemirror_mode": {
    "name": "ipython",
    "version": 3
   },
   "file_extension": ".py",
   "mimetype": "text/x-python",
   "name": "python",
   "nbconvert_exporter": "python",
   "pygments_lexer": "ipython3",
   "version": "3.9.7"
  }
 },
 "nbformat": 4,
 "nbformat_minor": 5
}
